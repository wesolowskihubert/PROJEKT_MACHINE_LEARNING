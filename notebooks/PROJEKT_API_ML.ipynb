{
 "cells": [
  {
   "cell_type": "markdown",
   "metadata": {},
   "source": [
    "### Projekt API - rozróżnianie gatunków muzycznych na podstawie tekstu utworów"
   ]
  },
  {
   "cell_type": "markdown",
   "metadata": {},
   "source": [
    "### 1. Import zbioru danych"
   ]
  },
  {
   "cell_type": "code",
   "execution_count": 1,
   "metadata": {},
   "outputs": [],
   "source": [
    "# import podstawowych bibliotek\n",
    "import numpy as np \n",
    "import pandas as pd \n",
    "import matplotlib.pyplot as plt\n",
    "import re\n",
    "import random\n",
    "\n",
    "# rozne modele ML\n",
    "from sklearn.feature_extraction import text      \n",
    "from sklearn.feature_extraction.text import CountVectorizer\n",
    "from sklearn.metrics import accuracy_score\n",
    "\n",
    "from sklearn.linear_model import LogisticRegression\n",
    "from sklearn.tree import DecisionTreeClassifier\n",
    "from sklearn.svm import SVC\n",
    "from sklearn.svm import LinearSVC\n",
    "from sklearn.svm import NuSVC\n",
    "from sklearn.linear_model import SGDClassifier\n",
    "from sklearn.naive_bayes import GaussianNB\n",
    "\n",
    "# globane parametry do testów\n",
    "SONGS_PER_GENRE = 20000\n",
    "SONGS_PER_TRAINING = 2000\n",
    "SONGS_PER_TESTING = 200"
   ]
  },
  {
   "cell_type": "code",
   "execution_count": 2,
   "metadata": {},
   "outputs": [
    {
     "data": {
      "text/html": [
       "<div>\n",
       "<style scoped>\n",
       "    .dataframe tbody tr th:only-of-type {\n",
       "        vertical-align: middle;\n",
       "    }\n",
       "\n",
       "    .dataframe tbody tr th {\n",
       "        vertical-align: top;\n",
       "    }\n",
       "\n",
       "    .dataframe thead th {\n",
       "        text-align: right;\n",
       "    }\n",
       "</style>\n",
       "<table border=\"1\" class=\"dataframe\">\n",
       "  <thead>\n",
       "    <tr style=\"text-align: right;\">\n",
       "      <th></th>\n",
       "      <th>ALink</th>\n",
       "      <th>SName</th>\n",
       "      <th>SLink</th>\n",
       "      <th>Lyric</th>\n",
       "      <th>Idiom</th>\n",
       "    </tr>\n",
       "  </thead>\n",
       "  <tbody>\n",
       "    <tr>\n",
       "      <th>0</th>\n",
       "      <td>/10000-maniacs/</td>\n",
       "      <td>More Than This</td>\n",
       "      <td>/10000-maniacs/more-than-this.html</td>\n",
       "      <td>I could feel at the time. There was no way of ...</td>\n",
       "      <td>ENGLISH</td>\n",
       "    </tr>\n",
       "    <tr>\n",
       "      <th>1</th>\n",
       "      <td>/10000-maniacs/</td>\n",
       "      <td>Because The Night</td>\n",
       "      <td>/10000-maniacs/because-the-night.html</td>\n",
       "      <td>Take me now, baby, here as I am. Hold me close...</td>\n",
       "      <td>ENGLISH</td>\n",
       "    </tr>\n",
       "    <tr>\n",
       "      <th>2</th>\n",
       "      <td>/10000-maniacs/</td>\n",
       "      <td>These Are Days</td>\n",
       "      <td>/10000-maniacs/these-are-days.html</td>\n",
       "      <td>These are. These are days you'll remember. Nev...</td>\n",
       "      <td>ENGLISH</td>\n",
       "    </tr>\n",
       "    <tr>\n",
       "      <th>3</th>\n",
       "      <td>/10000-maniacs/</td>\n",
       "      <td>A Campfire Song</td>\n",
       "      <td>/10000-maniacs/a-campfire-song.html</td>\n",
       "      <td>A lie to say, \"O my mountain has coal veins an...</td>\n",
       "      <td>ENGLISH</td>\n",
       "    </tr>\n",
       "    <tr>\n",
       "      <th>4</th>\n",
       "      <td>/10000-maniacs/</td>\n",
       "      <td>Everyday Is Like Sunday</td>\n",
       "      <td>/10000-maniacs/everyday-is-like-sunday.html</td>\n",
       "      <td>Trudging slowly over wet sand. Back to the ben...</td>\n",
       "      <td>ENGLISH</td>\n",
       "    </tr>\n",
       "    <tr>\n",
       "      <th>5</th>\n",
       "      <td>/10000-maniacs/</td>\n",
       "      <td>Don't Talk</td>\n",
       "      <td>/10000-maniacs/dont-talk.html</td>\n",
       "      <td>Don't talk, I will listen. Don't talk, you kee...</td>\n",
       "      <td>ENGLISH</td>\n",
       "    </tr>\n",
       "    <tr>\n",
       "      <th>6</th>\n",
       "      <td>/10000-maniacs/</td>\n",
       "      <td>Across The Fields</td>\n",
       "      <td>/10000-maniacs/across-the-fields.html</td>\n",
       "      <td>Well they left then in the morning, a hundred ...</td>\n",
       "      <td>ENGLISH</td>\n",
       "    </tr>\n",
       "    <tr>\n",
       "      <th>7</th>\n",
       "      <td>/10000-maniacs/</td>\n",
       "      <td>Planned Obsolescence</td>\n",
       "      <td>/10000-maniacs/planned-obsolescence.html</td>\n",
       "      <td>[ music: Dennis Drew/lyric: Natalie Merchant ]...</td>\n",
       "      <td>ENGLISH</td>\n",
       "    </tr>\n",
       "    <tr>\n",
       "      <th>8</th>\n",
       "      <td>/10000-maniacs/</td>\n",
       "      <td>Rainy Day</td>\n",
       "      <td>/10000-maniacs/rainy-day.html</td>\n",
       "      <td>On bended kneeI've looked through every window...</td>\n",
       "      <td>ENGLISH</td>\n",
       "    </tr>\n",
       "    <tr>\n",
       "      <th>9</th>\n",
       "      <td>/10000-maniacs/</td>\n",
       "      <td>Anthem For Doomed Youth</td>\n",
       "      <td>/10000-maniacs/anthem-for-doomed-youth.html</td>\n",
       "      <td>For whom do the bells toll. When sentenced to ...</td>\n",
       "      <td>ENGLISH</td>\n",
       "    </tr>\n",
       "  </tbody>\n",
       "</table>\n",
       "</div>"
      ],
      "text/plain": [
       "             ALink                    SName  \\\n",
       "0  /10000-maniacs/           More Than This   \n",
       "1  /10000-maniacs/        Because The Night   \n",
       "2  /10000-maniacs/           These Are Days   \n",
       "3  /10000-maniacs/          A Campfire Song   \n",
       "4  /10000-maniacs/  Everyday Is Like Sunday   \n",
       "5  /10000-maniacs/               Don't Talk   \n",
       "6  /10000-maniacs/        Across The Fields   \n",
       "7  /10000-maniacs/     Planned Obsolescence   \n",
       "8  /10000-maniacs/                Rainy Day   \n",
       "9  /10000-maniacs/  Anthem For Doomed Youth   \n",
       "\n",
       "                                         SLink  \\\n",
       "0           /10000-maniacs/more-than-this.html   \n",
       "1        /10000-maniacs/because-the-night.html   \n",
       "2           /10000-maniacs/these-are-days.html   \n",
       "3          /10000-maniacs/a-campfire-song.html   \n",
       "4  /10000-maniacs/everyday-is-like-sunday.html   \n",
       "5                /10000-maniacs/dont-talk.html   \n",
       "6        /10000-maniacs/across-the-fields.html   \n",
       "7     /10000-maniacs/planned-obsolescence.html   \n",
       "8                /10000-maniacs/rainy-day.html   \n",
       "9  /10000-maniacs/anthem-for-doomed-youth.html   \n",
       "\n",
       "                                               Lyric    Idiom  \n",
       "0  I could feel at the time. There was no way of ...  ENGLISH  \n",
       "1  Take me now, baby, here as I am. Hold me close...  ENGLISH  \n",
       "2  These are. These are days you'll remember. Nev...  ENGLISH  \n",
       "3  A lie to say, \"O my mountain has coal veins an...  ENGLISH  \n",
       "4  Trudging slowly over wet sand. Back to the ben...  ENGLISH  \n",
       "5  Don't talk, I will listen. Don't talk, you kee...  ENGLISH  \n",
       "6  Well they left then in the morning, a hundred ...  ENGLISH  \n",
       "7  [ music: Dennis Drew/lyric: Natalie Merchant ]...  ENGLISH  \n",
       "8  On bended kneeI've looked through every window...  ENGLISH  \n",
       "9  For whom do the bells toll. When sentenced to ...  ENGLISH  "
      ]
     },
     "execution_count": 2,
     "metadata": {},
     "output_type": "execute_result"
    }
   ],
   "source": [
    "songs = pd.read_csv('lyrics.csv') #importujemy liste piosenek\n",
    "songs.head(10)"
   ]
  },
  {
   "cell_type": "code",
   "execution_count": 3,
   "metadata": {},
   "outputs": [
    {
     "data": {
      "text/html": [
       "<div>\n",
       "<style scoped>\n",
       "    .dataframe tbody tr th:only-of-type {\n",
       "        vertical-align: middle;\n",
       "    }\n",
       "\n",
       "    .dataframe tbody tr th {\n",
       "        vertical-align: top;\n",
       "    }\n",
       "\n",
       "    .dataframe thead th {\n",
       "        text-align: right;\n",
       "    }\n",
       "</style>\n",
       "<table border=\"1\" class=\"dataframe\">\n",
       "  <thead>\n",
       "    <tr style=\"text-align: right;\">\n",
       "      <th></th>\n",
       "      <th>Artist</th>\n",
       "      <th>Songs</th>\n",
       "      <th>ALink</th>\n",
       "      <th>Genre</th>\n",
       "    </tr>\n",
       "  </thead>\n",
       "  <tbody>\n",
       "    <tr>\n",
       "      <th>0</th>\n",
       "      <td>10000 Maniacs</td>\n",
       "      <td>110</td>\n",
       "      <td>/10000-maniacs/</td>\n",
       "      <td>Rock</td>\n",
       "    </tr>\n",
       "    <tr>\n",
       "      <th>1</th>\n",
       "      <td>12 Stones</td>\n",
       "      <td>75</td>\n",
       "      <td>/12-stones/</td>\n",
       "      <td>Rock</td>\n",
       "    </tr>\n",
       "    <tr>\n",
       "      <th>2</th>\n",
       "      <td>311</td>\n",
       "      <td>196</td>\n",
       "      <td>/311/</td>\n",
       "      <td>Rock</td>\n",
       "    </tr>\n",
       "    <tr>\n",
       "      <th>3</th>\n",
       "      <td>4 Non Blondes</td>\n",
       "      <td>15</td>\n",
       "      <td>/4-non-blondes/</td>\n",
       "      <td>Rock</td>\n",
       "    </tr>\n",
       "    <tr>\n",
       "      <th>4</th>\n",
       "      <td>A Cruz Está Vazia</td>\n",
       "      <td>13</td>\n",
       "      <td>/a-cruz-esta-vazia/</td>\n",
       "      <td>Rock</td>\n",
       "    </tr>\n",
       "    <tr>\n",
       "      <th>5</th>\n",
       "      <td>Aborto Elétrico</td>\n",
       "      <td>36</td>\n",
       "      <td>/aborto-eletrico/</td>\n",
       "      <td>Rock</td>\n",
       "    </tr>\n",
       "    <tr>\n",
       "      <th>6</th>\n",
       "      <td>Abril</td>\n",
       "      <td>36</td>\n",
       "      <td>/abril/</td>\n",
       "      <td>Rock</td>\n",
       "    </tr>\n",
       "    <tr>\n",
       "      <th>7</th>\n",
       "      <td>Abuse</td>\n",
       "      <td>13</td>\n",
       "      <td>/abuse/</td>\n",
       "      <td>Rock</td>\n",
       "    </tr>\n",
       "    <tr>\n",
       "      <th>8</th>\n",
       "      <td>AC/DC</td>\n",
       "      <td>192</td>\n",
       "      <td>/ac-dc/</td>\n",
       "      <td>Rock</td>\n",
       "    </tr>\n",
       "    <tr>\n",
       "      <th>9</th>\n",
       "      <td>ACEIA</td>\n",
       "      <td>0</td>\n",
       "      <td>/aceia/</td>\n",
       "      <td>Rock</td>\n",
       "    </tr>\n",
       "  </tbody>\n",
       "</table>\n",
       "</div>"
      ],
      "text/plain": [
       "              Artist  Songs                ALink Genre\n",
       "0      10000 Maniacs    110      /10000-maniacs/  Rock\n",
       "1          12 Stones     75          /12-stones/  Rock\n",
       "2                311    196                /311/  Rock\n",
       "3      4 Non Blondes     15      /4-non-blondes/  Rock\n",
       "4  A Cruz Está Vazia     13  /a-cruz-esta-vazia/  Rock\n",
       "5    Aborto Elétrico     36    /aborto-eletrico/  Rock\n",
       "6              Abril     36              /abril/  Rock\n",
       "7              Abuse     13              /abuse/  Rock\n",
       "8              AC/DC    192              /ac-dc/  Rock\n",
       "9              ACEIA      0              /aceia/  Rock"
      ]
     },
     "execution_count": 3,
     "metadata": {},
     "output_type": "execute_result"
    }
   ],
   "source": [
    "artists = pd.read_csv('artists.csv') #importujemy liste artystow\n",
    "artists=artists.drop(['Popularity','Genres'], axis=1)\n",
    "artists=artists.rename(columns={'Link': 'ALink'})\n",
    "artists.head(10)"
   ]
  },
  {
   "cell_type": "code",
   "execution_count": 4,
   "metadata": {},
   "outputs": [
    {
     "data": {
      "text/html": [
       "<div>\n",
       "<style scoped>\n",
       "    .dataframe tbody tr th:only-of-type {\n",
       "        vertical-align: middle;\n",
       "    }\n",
       "\n",
       "    .dataframe tbody tr th {\n",
       "        vertical-align: top;\n",
       "    }\n",
       "\n",
       "    .dataframe thead th {\n",
       "        text-align: right;\n",
       "    }\n",
       "</style>\n",
       "<table border=\"1\" class=\"dataframe\">\n",
       "  <thead>\n",
       "    <tr style=\"text-align: right;\">\n",
       "      <th></th>\n",
       "      <th>Artist</th>\n",
       "      <th>Songs</th>\n",
       "      <th>ALink</th>\n",
       "      <th>Genre</th>\n",
       "      <th>SName</th>\n",
       "      <th>SLink</th>\n",
       "      <th>Lyric</th>\n",
       "      <th>Idiom</th>\n",
       "    </tr>\n",
       "  </thead>\n",
       "  <tbody>\n",
       "    <tr>\n",
       "      <th>0</th>\n",
       "      <td>10000 Maniacs</td>\n",
       "      <td>110</td>\n",
       "      <td>/10000-maniacs/</td>\n",
       "      <td>Rock</td>\n",
       "      <td>More Than This</td>\n",
       "      <td>/10000-maniacs/more-than-this.html</td>\n",
       "      <td>I could feel at the time. There was no way of ...</td>\n",
       "      <td>ENGLISH</td>\n",
       "    </tr>\n",
       "    <tr>\n",
       "      <th>1</th>\n",
       "      <td>10000 Maniacs</td>\n",
       "      <td>110</td>\n",
       "      <td>/10000-maniacs/</td>\n",
       "      <td>Rock</td>\n",
       "      <td>Because The Night</td>\n",
       "      <td>/10000-maniacs/because-the-night.html</td>\n",
       "      <td>Take me now, baby, here as I am. Hold me close...</td>\n",
       "      <td>ENGLISH</td>\n",
       "    </tr>\n",
       "    <tr>\n",
       "      <th>2</th>\n",
       "      <td>10000 Maniacs</td>\n",
       "      <td>110</td>\n",
       "      <td>/10000-maniacs/</td>\n",
       "      <td>Rock</td>\n",
       "      <td>These Are Days</td>\n",
       "      <td>/10000-maniacs/these-are-days.html</td>\n",
       "      <td>These are. These are days you'll remember. Nev...</td>\n",
       "      <td>ENGLISH</td>\n",
       "    </tr>\n",
       "    <tr>\n",
       "      <th>3</th>\n",
       "      <td>10000 Maniacs</td>\n",
       "      <td>110</td>\n",
       "      <td>/10000-maniacs/</td>\n",
       "      <td>Rock</td>\n",
       "      <td>A Campfire Song</td>\n",
       "      <td>/10000-maniacs/a-campfire-song.html</td>\n",
       "      <td>A lie to say, \"O my mountain has coal veins an...</td>\n",
       "      <td>ENGLISH</td>\n",
       "    </tr>\n",
       "    <tr>\n",
       "      <th>4</th>\n",
       "      <td>10000 Maniacs</td>\n",
       "      <td>110</td>\n",
       "      <td>/10000-maniacs/</td>\n",
       "      <td>Rock</td>\n",
       "      <td>Everyday Is Like Sunday</td>\n",
       "      <td>/10000-maniacs/everyday-is-like-sunday.html</td>\n",
       "      <td>Trudging slowly over wet sand. Back to the ben...</td>\n",
       "      <td>ENGLISH</td>\n",
       "    </tr>\n",
       "    <tr>\n",
       "      <th>5</th>\n",
       "      <td>10000 Maniacs</td>\n",
       "      <td>110</td>\n",
       "      <td>/10000-maniacs/</td>\n",
       "      <td>Rock</td>\n",
       "      <td>Don't Talk</td>\n",
       "      <td>/10000-maniacs/dont-talk.html</td>\n",
       "      <td>Don't talk, I will listen. Don't talk, you kee...</td>\n",
       "      <td>ENGLISH</td>\n",
       "    </tr>\n",
       "    <tr>\n",
       "      <th>6</th>\n",
       "      <td>10000 Maniacs</td>\n",
       "      <td>110</td>\n",
       "      <td>/10000-maniacs/</td>\n",
       "      <td>Rock</td>\n",
       "      <td>Across The Fields</td>\n",
       "      <td>/10000-maniacs/across-the-fields.html</td>\n",
       "      <td>Well they left then in the morning, a hundred ...</td>\n",
       "      <td>ENGLISH</td>\n",
       "    </tr>\n",
       "    <tr>\n",
       "      <th>7</th>\n",
       "      <td>10000 Maniacs</td>\n",
       "      <td>110</td>\n",
       "      <td>/10000-maniacs/</td>\n",
       "      <td>Rock</td>\n",
       "      <td>Planned Obsolescence</td>\n",
       "      <td>/10000-maniacs/planned-obsolescence.html</td>\n",
       "      <td>[ music: Dennis Drew/lyric: Natalie Merchant ]...</td>\n",
       "      <td>ENGLISH</td>\n",
       "    </tr>\n",
       "    <tr>\n",
       "      <th>8</th>\n",
       "      <td>10000 Maniacs</td>\n",
       "      <td>110</td>\n",
       "      <td>/10000-maniacs/</td>\n",
       "      <td>Rock</td>\n",
       "      <td>Rainy Day</td>\n",
       "      <td>/10000-maniacs/rainy-day.html</td>\n",
       "      <td>On bended kneeI've looked through every window...</td>\n",
       "      <td>ENGLISH</td>\n",
       "    </tr>\n",
       "    <tr>\n",
       "      <th>9</th>\n",
       "      <td>10000 Maniacs</td>\n",
       "      <td>110</td>\n",
       "      <td>/10000-maniacs/</td>\n",
       "      <td>Rock</td>\n",
       "      <td>Anthem For Doomed Youth</td>\n",
       "      <td>/10000-maniacs/anthem-for-doomed-youth.html</td>\n",
       "      <td>For whom do the bells toll. When sentenced to ...</td>\n",
       "      <td>ENGLISH</td>\n",
       "    </tr>\n",
       "  </tbody>\n",
       "</table>\n",
       "</div>"
      ],
      "text/plain": [
       "          Artist  Songs            ALink Genre                    SName  \\\n",
       "0  10000 Maniacs    110  /10000-maniacs/  Rock           More Than This   \n",
       "1  10000 Maniacs    110  /10000-maniacs/  Rock        Because The Night   \n",
       "2  10000 Maniacs    110  /10000-maniacs/  Rock           These Are Days   \n",
       "3  10000 Maniacs    110  /10000-maniacs/  Rock          A Campfire Song   \n",
       "4  10000 Maniacs    110  /10000-maniacs/  Rock  Everyday Is Like Sunday   \n",
       "5  10000 Maniacs    110  /10000-maniacs/  Rock               Don't Talk   \n",
       "6  10000 Maniacs    110  /10000-maniacs/  Rock        Across The Fields   \n",
       "7  10000 Maniacs    110  /10000-maniacs/  Rock     Planned Obsolescence   \n",
       "8  10000 Maniacs    110  /10000-maniacs/  Rock                Rainy Day   \n",
       "9  10000 Maniacs    110  /10000-maniacs/  Rock  Anthem For Doomed Youth   \n",
       "\n",
       "                                         SLink  \\\n",
       "0           /10000-maniacs/more-than-this.html   \n",
       "1        /10000-maniacs/because-the-night.html   \n",
       "2           /10000-maniacs/these-are-days.html   \n",
       "3          /10000-maniacs/a-campfire-song.html   \n",
       "4  /10000-maniacs/everyday-is-like-sunday.html   \n",
       "5                /10000-maniacs/dont-talk.html   \n",
       "6        /10000-maniacs/across-the-fields.html   \n",
       "7     /10000-maniacs/planned-obsolescence.html   \n",
       "8                /10000-maniacs/rainy-day.html   \n",
       "9  /10000-maniacs/anthem-for-doomed-youth.html   \n",
       "\n",
       "                                               Lyric    Idiom  \n",
       "0  I could feel at the time. There was no way of ...  ENGLISH  \n",
       "1  Take me now, baby, here as I am. Hold me close...  ENGLISH  \n",
       "2  These are. These are days you'll remember. Nev...  ENGLISH  \n",
       "3  A lie to say, \"O my mountain has coal veins an...  ENGLISH  \n",
       "4  Trudging slowly over wet sand. Back to the ben...  ENGLISH  \n",
       "5  Don't talk, I will listen. Don't talk, you kee...  ENGLISH  \n",
       "6  Well they left then in the morning, a hundred ...  ENGLISH  \n",
       "7  [ music: Dennis Drew/lyric: Natalie Merchant ]...  ENGLISH  \n",
       "8  On bended kneeI've looked through every window...  ENGLISH  \n",
       "9  For whom do the bells toll. When sentenced to ...  ENGLISH  "
      ]
     },
     "execution_count": 4,
     "metadata": {},
     "output_type": "execute_result"
    }
   ],
   "source": [
    "#łączymy oba importy\n",
    "merged_inner=pd.merge(left=artists, right=songs, left_on='ALink', right_on='ALink')\n",
    "merged_inner.head(10)"
   ]
  },
  {
   "cell_type": "code",
   "execution_count": 5,
   "metadata": {},
   "outputs": [],
   "source": [
    "#weryfikacja kolumn po złączeniu plików\n",
    "import datatest as dt\n",
    "\n",
    "dt.validate(merged_inner.columns, {'Artist', 'Songs', 'ALink', 'Genre', 'SName', 'SLink', 'Lyric', 'Idiom'})"
   ]
  },
  {
   "cell_type": "code",
   "execution_count": 6,
   "metadata": {},
   "outputs": [],
   "source": [
    "#testy jednostowe\n",
    "import unittest\n",
    "\n",
    "class TestMyData(dt.DataTestCase):\n",
    "\n",
    "    def test_column_names(self):\n",
    "        required_names = {'Artist', 'Songs', 'ALink', 'Genre', 'SName', 'SLink', 'Lyric', 'Idiom'}\n",
    "        self.assertValid(merged_inner.columns, required_names)"
   ]
  },
  {
   "cell_type": "code",
   "execution_count": 7,
   "metadata": {},
   "outputs": [
    {
     "name": "stderr",
     "output_type": "stream",
     "text": [
      "test_column_names (__main__.TestMyData) ... ok\n",
      "\n",
      "----------------------------------------------------------------------\n",
      "Ran 1 test in 0.003s\n",
      "\n",
      "OK\n"
     ]
    },
    {
     "data": {
      "text/plain": [
       "<unittest.main.TestProgram at 0x16068cfd940>"
      ]
     },
     "execution_count": 7,
     "metadata": {},
     "output_type": "execute_result"
    }
   ],
   "source": [
    "unittest.main(argv=[''], verbosity=2, exit=False)"
   ]
  },
  {
   "cell_type": "code",
   "execution_count": 8,
   "metadata": {},
   "outputs": [
    {
     "data": {
      "image/png": "[encoded data removed]",
      "text/plain": [
       "<Figure size 1584x864 with 2 Axes>"
      ]
     },
     "metadata": {
      "needs_background": "light"
     },
     "output_type": "display_data"
    }
   ],
   "source": [
    "#procentowy rozklad wszystkich gatunkow muzycznych w zbiorze danych\n",
    "\n",
    "genreCount = merged_inner['Genre'].value_counts()\n",
    "fig, axarr = plt.subplots(1, 2)\n",
    "fig.tight_layout()\n",
    "genreCount.plot.pie( figsize=(12, 12), ax=axarr[1], fontsize=16, autopct='%.1f' )\n",
    "genreCount.plot.bar( figsize=(22, 12), ax=axarr[0], fontsize=16 )\n",
    "plt.show()"
   ]
  },
  {
   "cell_type": "code",
   "execution_count": 9,
   "metadata": {},
   "outputs": [
    {
     "data": {
      "text/html": [
       "<div>\n",
       "<style scoped>\n",
       "    .dataframe tbody tr th:only-of-type {\n",
       "        vertical-align: middle;\n",
       "    }\n",
       "\n",
       "    .dataframe tbody tr th {\n",
       "        vertical-align: top;\n",
       "    }\n",
       "\n",
       "    .dataframe thead th {\n",
       "        text-align: right;\n",
       "    }\n",
       "</style>\n",
       "<table border=\"1\" class=\"dataframe\">\n",
       "  <thead>\n",
       "    <tr style=\"text-align: right;\">\n",
       "      <th></th>\n",
       "      <th>Artist</th>\n",
       "      <th>Songs</th>\n",
       "      <th>ALink</th>\n",
       "      <th>Genre</th>\n",
       "      <th>SName</th>\n",
       "      <th>SLink</th>\n",
       "      <th>Lyric</th>\n",
       "      <th>Idiom</th>\n",
       "    </tr>\n",
       "  </thead>\n",
       "  <tbody>\n",
       "    <tr>\n",
       "      <th>0</th>\n",
       "      <td>10000 Maniacs</td>\n",
       "      <td>110</td>\n",
       "      <td>/10000-maniacs/</td>\n",
       "      <td>Rock</td>\n",
       "      <td>More Than This</td>\n",
       "      <td>/10000-maniacs/more-than-this.html</td>\n",
       "      <td>I could feel at the time. There was no way of ...</td>\n",
       "      <td>ENGLISH</td>\n",
       "    </tr>\n",
       "    <tr>\n",
       "      <th>1</th>\n",
       "      <td>10000 Maniacs</td>\n",
       "      <td>110</td>\n",
       "      <td>/10000-maniacs/</td>\n",
       "      <td>Rock</td>\n",
       "      <td>Because The Night</td>\n",
       "      <td>/10000-maniacs/because-the-night.html</td>\n",
       "      <td>Take me now, baby, here as I am. Hold me close...</td>\n",
       "      <td>ENGLISH</td>\n",
       "    </tr>\n",
       "    <tr>\n",
       "      <th>2</th>\n",
       "      <td>10000 Maniacs</td>\n",
       "      <td>110</td>\n",
       "      <td>/10000-maniacs/</td>\n",
       "      <td>Rock</td>\n",
       "      <td>These Are Days</td>\n",
       "      <td>/10000-maniacs/these-are-days.html</td>\n",
       "      <td>These are. These are days you'll remember. Nev...</td>\n",
       "      <td>ENGLISH</td>\n",
       "    </tr>\n",
       "    <tr>\n",
       "      <th>3</th>\n",
       "      <td>10000 Maniacs</td>\n",
       "      <td>110</td>\n",
       "      <td>/10000-maniacs/</td>\n",
       "      <td>Rock</td>\n",
       "      <td>A Campfire Song</td>\n",
       "      <td>/10000-maniacs/a-campfire-song.html</td>\n",
       "      <td>A lie to say, \"O my mountain has coal veins an...</td>\n",
       "      <td>ENGLISH</td>\n",
       "    </tr>\n",
       "    <tr>\n",
       "      <th>4</th>\n",
       "      <td>10000 Maniacs</td>\n",
       "      <td>110</td>\n",
       "      <td>/10000-maniacs/</td>\n",
       "      <td>Rock</td>\n",
       "      <td>Everyday Is Like Sunday</td>\n",
       "      <td>/10000-maniacs/everyday-is-like-sunday.html</td>\n",
       "      <td>Trudging slowly over wet sand. Back to the ben...</td>\n",
       "      <td>ENGLISH</td>\n",
       "    </tr>\n",
       "    <tr>\n",
       "      <th>5</th>\n",
       "      <td>10000 Maniacs</td>\n",
       "      <td>110</td>\n",
       "      <td>/10000-maniacs/</td>\n",
       "      <td>Rock</td>\n",
       "      <td>Don't Talk</td>\n",
       "      <td>/10000-maniacs/dont-talk.html</td>\n",
       "      <td>Don't talk, I will listen. Don't talk, you kee...</td>\n",
       "      <td>ENGLISH</td>\n",
       "    </tr>\n",
       "    <tr>\n",
       "      <th>6</th>\n",
       "      <td>10000 Maniacs</td>\n",
       "      <td>110</td>\n",
       "      <td>/10000-maniacs/</td>\n",
       "      <td>Rock</td>\n",
       "      <td>Across The Fields</td>\n",
       "      <td>/10000-maniacs/across-the-fields.html</td>\n",
       "      <td>Well they left then in the morning, a hundred ...</td>\n",
       "      <td>ENGLISH</td>\n",
       "    </tr>\n",
       "    <tr>\n",
       "      <th>7</th>\n",
       "      <td>10000 Maniacs</td>\n",
       "      <td>110</td>\n",
       "      <td>/10000-maniacs/</td>\n",
       "      <td>Rock</td>\n",
       "      <td>Planned Obsolescence</td>\n",
       "      <td>/10000-maniacs/planned-obsolescence.html</td>\n",
       "      <td>[ music: Dennis Drew/lyric: Natalie Merchant ]...</td>\n",
       "      <td>ENGLISH</td>\n",
       "    </tr>\n",
       "    <tr>\n",
       "      <th>8</th>\n",
       "      <td>10000 Maniacs</td>\n",
       "      <td>110</td>\n",
       "      <td>/10000-maniacs/</td>\n",
       "      <td>Rock</td>\n",
       "      <td>Rainy Day</td>\n",
       "      <td>/10000-maniacs/rainy-day.html</td>\n",
       "      <td>On bended kneeI've looked through every window...</td>\n",
       "      <td>ENGLISH</td>\n",
       "    </tr>\n",
       "    <tr>\n",
       "      <th>9</th>\n",
       "      <td>10000 Maniacs</td>\n",
       "      <td>110</td>\n",
       "      <td>/10000-maniacs/</td>\n",
       "      <td>Rock</td>\n",
       "      <td>Anthem For Doomed Youth</td>\n",
       "      <td>/10000-maniacs/anthem-for-doomed-youth.html</td>\n",
       "      <td>For whom do the bells toll. When sentenced to ...</td>\n",
       "      <td>ENGLISH</td>\n",
       "    </tr>\n",
       "  </tbody>\n",
       "</table>\n",
       "</div>"
      ],
      "text/plain": [
       "          Artist  Songs            ALink Genre                    SName  \\\n",
       "0  10000 Maniacs    110  /10000-maniacs/  Rock           More Than This   \n",
       "1  10000 Maniacs    110  /10000-maniacs/  Rock        Because The Night   \n",
       "2  10000 Maniacs    110  /10000-maniacs/  Rock           These Are Days   \n",
       "3  10000 Maniacs    110  /10000-maniacs/  Rock          A Campfire Song   \n",
       "4  10000 Maniacs    110  /10000-maniacs/  Rock  Everyday Is Like Sunday   \n",
       "5  10000 Maniacs    110  /10000-maniacs/  Rock               Don't Talk   \n",
       "6  10000 Maniacs    110  /10000-maniacs/  Rock        Across The Fields   \n",
       "7  10000 Maniacs    110  /10000-maniacs/  Rock     Planned Obsolescence   \n",
       "8  10000 Maniacs    110  /10000-maniacs/  Rock                Rainy Day   \n",
       "9  10000 Maniacs    110  /10000-maniacs/  Rock  Anthem For Doomed Youth   \n",
       "\n",
       "                                         SLink  \\\n",
       "0           /10000-maniacs/more-than-this.html   \n",
       "1        /10000-maniacs/because-the-night.html   \n",
       "2           /10000-maniacs/these-are-days.html   \n",
       "3          /10000-maniacs/a-campfire-song.html   \n",
       "4  /10000-maniacs/everyday-is-like-sunday.html   \n",
       "5                /10000-maniacs/dont-talk.html   \n",
       "6        /10000-maniacs/across-the-fields.html   \n",
       "7     /10000-maniacs/planned-obsolescence.html   \n",
       "8                /10000-maniacs/rainy-day.html   \n",
       "9  /10000-maniacs/anthem-for-doomed-youth.html   \n",
       "\n",
       "                                               Lyric    Idiom  \n",
       "0  I could feel at the time. There was no way of ...  ENGLISH  \n",
       "1  Take me now, baby, here as I am. Hold me close...  ENGLISH  \n",
       "2  These are. These are days you'll remember. Nev...  ENGLISH  \n",
       "3  A lie to say, \"O my mountain has coal veins an...  ENGLISH  \n",
       "4  Trudging slowly over wet sand. Back to the ben...  ENGLISH  \n",
       "5  Don't talk, I will listen. Don't talk, you kee...  ENGLISH  \n",
       "6  Well they left then in the morning, a hundred ...  ENGLISH  \n",
       "7  [ music: Dennis Drew/lyric: Natalie Merchant ]...  ENGLISH  \n",
       "8  On bended kneeI've looked through every window...  ENGLISH  \n",
       "9  For whom do the bells toll. When sentenced to ...  ENGLISH  "
      ]
     },
     "execution_count": 9,
     "metadata": {},
     "output_type": "execute_result"
    }
   ],
   "source": [
    "# szybkie filtorwanie danych, tak aby ostatecznie rozroniac teksty miedzy ROCKiem a HIP HOPem\n",
    "df_filtered = merged_inner[merged_inner['Idiom'] == 'ENGLISH']\n",
    "df_filtered = df_filtered[df_filtered['Genre'] != 'Samba']\n",
    "df_filtered = df_filtered[df_filtered['Genre'] != 'Sertanejo']\n",
    "df_filtered = df_filtered[df_filtered['Genre'] != 'Funk Carioca']\n",
    "df_filtered = df_filtered[df_filtered['Genre'] != 'Pop']\n",
    "merged_inner = df_filtered\n",
    "df_filtered.head(10)"
   ]
  },
  {
   "cell_type": "code",
   "execution_count": 10,
   "metadata": {},
   "outputs": [],
   "source": [
    "#testy jednostowe\n",
    "import unittest\n",
    "\n",
    "class TestStringMethods(unittest.TestCase):\n",
    "\n",
    "    def test_upper(self):\n",
    "        self.assertEqual('Lyrics'.upper(), 'LYRICS')\n",
    "\n",
    "    def test_isupper(self):\n",
    "        self.assertTrue('ARTIST'.isupper())\n",
    "        self.assertFalse('Artist'.isupper())"
   ]
  },
  {
   "cell_type": "code",
   "execution_count": 11,
   "metadata": {},
   "outputs": [
    {
     "name": "stderr",
     "output_type": "stream",
     "text": [
      "test_column_names (__main__.TestMyData) ... ok\n",
      "test_isupper (__main__.TestStringMethods) ... ok\n",
      "test_upper (__main__.TestStringMethods) ... ok\n",
      "\n",
      "----------------------------------------------------------------------\n",
      "Ran 3 tests in 0.003s\n",
      "\n",
      "OK\n"
     ]
    },
    {
     "data": {
      "text/plain": [
       "<unittest.main.TestProgram at 0x16069a8d730>"
      ]
     },
     "execution_count": 11,
     "metadata": {},
     "output_type": "execute_result"
    }
   ],
   "source": [
    "unittest.main(argv=[''], verbosity=2, exit=False)"
   ]
  },
  {
   "cell_type": "code",
   "execution_count": 12,
   "metadata": {},
   "outputs": [
    {
     "data": {
      "text/html": [
       "<div>\n",
       "<style scoped>\n",
       "    .dataframe tbody tr th:only-of-type {\n",
       "        vertical-align: middle;\n",
       "    }\n",
       "\n",
       "    .dataframe tbody tr th {\n",
       "        vertical-align: top;\n",
       "    }\n",
       "\n",
       "    .dataframe thead th {\n",
       "        text-align: right;\n",
       "    }\n",
       "</style>\n",
       "<table border=\"1\" class=\"dataframe\">\n",
       "  <thead>\n",
       "    <tr style=\"text-align: right;\">\n",
       "      <th></th>\n",
       "      <th>Artist</th>\n",
       "      <th>Genre</th>\n",
       "      <th>SName</th>\n",
       "      <th>Lyric</th>\n",
       "    </tr>\n",
       "  </thead>\n",
       "  <tbody>\n",
       "    <tr>\n",
       "      <th>0</th>\n",
       "      <td>10000 Maniacs</td>\n",
       "      <td>Rock</td>\n",
       "      <td>More Than This</td>\n",
       "      <td>I could feel at the time. There was no way of ...</td>\n",
       "    </tr>\n",
       "    <tr>\n",
       "      <th>1</th>\n",
       "      <td>10000 Maniacs</td>\n",
       "      <td>Rock</td>\n",
       "      <td>Because The Night</td>\n",
       "      <td>Take me now, baby, here as I am. Hold me close...</td>\n",
       "    </tr>\n",
       "    <tr>\n",
       "      <th>2</th>\n",
       "      <td>10000 Maniacs</td>\n",
       "      <td>Rock</td>\n",
       "      <td>These Are Days</td>\n",
       "      <td>These are. These are days you'll remember. Nev...</td>\n",
       "    </tr>\n",
       "    <tr>\n",
       "      <th>3</th>\n",
       "      <td>10000 Maniacs</td>\n",
       "      <td>Rock</td>\n",
       "      <td>A Campfire Song</td>\n",
       "      <td>A lie to say, \"O my mountain has coal veins an...</td>\n",
       "    </tr>\n",
       "    <tr>\n",
       "      <th>4</th>\n",
       "      <td>10000 Maniacs</td>\n",
       "      <td>Rock</td>\n",
       "      <td>Everyday Is Like Sunday</td>\n",
       "      <td>Trudging slowly over wet sand. Back to the ben...</td>\n",
       "    </tr>\n",
       "    <tr>\n",
       "      <th>5</th>\n",
       "      <td>10000 Maniacs</td>\n",
       "      <td>Rock</td>\n",
       "      <td>Don't Talk</td>\n",
       "      <td>Don't talk, I will listen. Don't talk, you kee...</td>\n",
       "    </tr>\n",
       "    <tr>\n",
       "      <th>6</th>\n",
       "      <td>10000 Maniacs</td>\n",
       "      <td>Rock</td>\n",
       "      <td>Across The Fields</td>\n",
       "      <td>Well they left then in the morning, a hundred ...</td>\n",
       "    </tr>\n",
       "    <tr>\n",
       "      <th>7</th>\n",
       "      <td>10000 Maniacs</td>\n",
       "      <td>Rock</td>\n",
       "      <td>Planned Obsolescence</td>\n",
       "      <td>[ music: Dennis Drew/lyric: Natalie Merchant ]...</td>\n",
       "    </tr>\n",
       "    <tr>\n",
       "      <th>8</th>\n",
       "      <td>10000 Maniacs</td>\n",
       "      <td>Rock</td>\n",
       "      <td>Rainy Day</td>\n",
       "      <td>On bended kneeI've looked through every window...</td>\n",
       "    </tr>\n",
       "    <tr>\n",
       "      <th>9</th>\n",
       "      <td>10000 Maniacs</td>\n",
       "      <td>Rock</td>\n",
       "      <td>Anthem For Doomed Youth</td>\n",
       "      <td>For whom do the bells toll. When sentenced to ...</td>\n",
       "    </tr>\n",
       "  </tbody>\n",
       "</table>\n",
       "</div>"
      ],
      "text/plain": [
       "          Artist Genre                    SName  \\\n",
       "0  10000 Maniacs  Rock           More Than This   \n",
       "1  10000 Maniacs  Rock        Because The Night   \n",
       "2  10000 Maniacs  Rock           These Are Days   \n",
       "3  10000 Maniacs  Rock          A Campfire Song   \n",
       "4  10000 Maniacs  Rock  Everyday Is Like Sunday   \n",
       "5  10000 Maniacs  Rock               Don't Talk   \n",
       "6  10000 Maniacs  Rock        Across The Fields   \n",
       "7  10000 Maniacs  Rock     Planned Obsolescence   \n",
       "8  10000 Maniacs  Rock                Rainy Day   \n",
       "9  10000 Maniacs  Rock  Anthem For Doomed Youth   \n",
       "\n",
       "                                               Lyric  \n",
       "0  I could feel at the time. There was no way of ...  \n",
       "1  Take me now, baby, here as I am. Hold me close...  \n",
       "2  These are. These are days you'll remember. Nev...  \n",
       "3  A lie to say, \"O my mountain has coal veins an...  \n",
       "4  Trudging slowly over wet sand. Back to the ben...  \n",
       "5  Don't talk, I will listen. Don't talk, you kee...  \n",
       "6  Well they left then in the morning, a hundred ...  \n",
       "7  [ music: Dennis Drew/lyric: Natalie Merchant ]...  \n",
       "8  On bended kneeI've looked through every window...  \n",
       "9  For whom do the bells toll. When sentenced to ...  "
      ]
     },
     "execution_count": 12,
     "metadata": {},
     "output_type": "execute_result"
    }
   ],
   "source": [
    "#pozbywamy sie niepotrzebnych kolum a pozniej zmieniamy im nazwy\n",
    "merged_inner=merged_inner.drop(['ALink','Songs', 'Idiom', 'SLink'], axis=1)\n",
    "merged_inner.head(10)"
   ]
  },
  {
   "cell_type": "code",
   "execution_count": 13,
   "metadata": {},
   "outputs": [
    {
     "data": {
      "text/html": [
       "<div>\n",
       "<style scoped>\n",
       "    .dataframe tbody tr th:only-of-type {\n",
       "        vertical-align: middle;\n",
       "    }\n",
       "\n",
       "    .dataframe tbody tr th {\n",
       "        vertical-align: top;\n",
       "    }\n",
       "\n",
       "    .dataframe thead th {\n",
       "        text-align: right;\n",
       "    }\n",
       "</style>\n",
       "<table border=\"1\" class=\"dataframe\">\n",
       "  <thead>\n",
       "    <tr style=\"text-align: right;\">\n",
       "      <th></th>\n",
       "      <th>Artist</th>\n",
       "      <th>Genre</th>\n",
       "      <th>Song</th>\n",
       "      <th>Lyric</th>\n",
       "    </tr>\n",
       "  </thead>\n",
       "  <tbody>\n",
       "    <tr>\n",
       "      <th>0</th>\n",
       "      <td>10000 Maniacs</td>\n",
       "      <td>Rock</td>\n",
       "      <td>More Than This</td>\n",
       "      <td>I could feel at the time. There was no way of ...</td>\n",
       "    </tr>\n",
       "    <tr>\n",
       "      <th>1</th>\n",
       "      <td>10000 Maniacs</td>\n",
       "      <td>Rock</td>\n",
       "      <td>Because The Night</td>\n",
       "      <td>Take me now, baby, here as I am. Hold me close...</td>\n",
       "    </tr>\n",
       "    <tr>\n",
       "      <th>2</th>\n",
       "      <td>10000 Maniacs</td>\n",
       "      <td>Rock</td>\n",
       "      <td>These Are Days</td>\n",
       "      <td>These are. These are days you'll remember. Nev...</td>\n",
       "    </tr>\n",
       "    <tr>\n",
       "      <th>3</th>\n",
       "      <td>10000 Maniacs</td>\n",
       "      <td>Rock</td>\n",
       "      <td>A Campfire Song</td>\n",
       "      <td>A lie to say, \"O my mountain has coal veins an...</td>\n",
       "    </tr>\n",
       "    <tr>\n",
       "      <th>4</th>\n",
       "      <td>10000 Maniacs</td>\n",
       "      <td>Rock</td>\n",
       "      <td>Everyday Is Like Sunday</td>\n",
       "      <td>Trudging slowly over wet sand. Back to the ben...</td>\n",
       "    </tr>\n",
       "  </tbody>\n",
       "</table>\n",
       "</div>"
      ],
      "text/plain": [
       "          Artist Genre                     Song  \\\n",
       "0  10000 Maniacs  Rock           More Than This   \n",
       "1  10000 Maniacs  Rock        Because The Night   \n",
       "2  10000 Maniacs  Rock           These Are Days   \n",
       "3  10000 Maniacs  Rock          A Campfire Song   \n",
       "4  10000 Maniacs  Rock  Everyday Is Like Sunday   \n",
       "\n",
       "                                               Lyric  \n",
       "0  I could feel at the time. There was no way of ...  \n",
       "1  Take me now, baby, here as I am. Hold me close...  \n",
       "2  These are. These are days you'll remember. Nev...  \n",
       "3  A lie to say, \"O my mountain has coal veins an...  \n",
       "4  Trudging slowly over wet sand. Back to the ben...  "
      ]
     },
     "execution_count": 13,
     "metadata": {},
     "output_type": "execute_result"
    }
   ],
   "source": [
    "merged_inner = merged_inner.rename(columns={'SName': 'Song'})\n",
    "merged_inner.head()     "
   ]
  },
  {
   "cell_type": "code",
   "execution_count": 14,
   "metadata": {},
   "outputs": [
    {
     "data": {
      "text/html": [
       "<div>\n",
       "<style scoped>\n",
       "    .dataframe tbody tr th:only-of-type {\n",
       "        vertical-align: middle;\n",
       "    }\n",
       "\n",
       "    .dataframe tbody tr th {\n",
       "        vertical-align: top;\n",
       "    }\n",
       "\n",
       "    .dataframe thead th {\n",
       "        text-align: right;\n",
       "    }\n",
       "</style>\n",
       "<table border=\"1\" class=\"dataframe\">\n",
       "  <thead>\n",
       "    <tr style=\"text-align: right;\">\n",
       "      <th></th>\n",
       "      <th>Artist</th>\n",
       "      <th>Genre</th>\n",
       "      <th>Song</th>\n",
       "      <th>Lyric</th>\n",
       "    </tr>\n",
       "  </thead>\n",
       "  <tbody>\n",
       "    <tr>\n",
       "      <th>0</th>\n",
       "      <td>10000 Maniacs</td>\n",
       "      <td>Rock</td>\n",
       "      <td>More Than This</td>\n",
       "      <td>I could feel at the time. There was no way of ...</td>\n",
       "    </tr>\n",
       "    <tr>\n",
       "      <th>1</th>\n",
       "      <td>10000 Maniacs</td>\n",
       "      <td>Rock</td>\n",
       "      <td>Because The Night</td>\n",
       "      <td>Take me now, baby, here as I am. Hold me close...</td>\n",
       "    </tr>\n",
       "    <tr>\n",
       "      <th>2</th>\n",
       "      <td>10000 Maniacs</td>\n",
       "      <td>Rock</td>\n",
       "      <td>These Are Days</td>\n",
       "      <td>These are. These are days you'll remember. Nev...</td>\n",
       "    </tr>\n",
       "    <tr>\n",
       "      <th>3</th>\n",
       "      <td>10000 Maniacs</td>\n",
       "      <td>Rock</td>\n",
       "      <td>A Campfire Song</td>\n",
       "      <td>A lie to say, \"O my mountain has coal veins an...</td>\n",
       "    </tr>\n",
       "    <tr>\n",
       "      <th>4</th>\n",
       "      <td>10000 Maniacs</td>\n",
       "      <td>Rock</td>\n",
       "      <td>Everyday Is Like Sunday</td>\n",
       "      <td>Trudging slowly over wet sand. Back to the ben...</td>\n",
       "    </tr>\n",
       "    <tr>\n",
       "      <th>...</th>\n",
       "      <td>...</td>\n",
       "      <td>...</td>\n",
       "      <td>...</td>\n",
       "      <td>...</td>\n",
       "    </tr>\n",
       "    <tr>\n",
       "      <th>215975</th>\n",
       "      <td>Yellowcard</td>\n",
       "      <td>Rock</td>\n",
       "      <td>What Appears</td>\n",
       "      <td>Slow steady hands waving their last goodbye. T...</td>\n",
       "    </tr>\n",
       "    <tr>\n",
       "      <th>215976</th>\n",
       "      <td>Yellowcard</td>\n",
       "      <td>Rock</td>\n",
       "      <td>When We're Old Men</td>\n",
       "      <td>I've spent all of my time on the road. Sleepin...</td>\n",
       "    </tr>\n",
       "    <tr>\n",
       "      <th>215977</th>\n",
       "      <td>Yellowcard</td>\n",
       "      <td>Rock</td>\n",
       "      <td>With You Around</td>\n",
       "      <td>Do you remember when. I said you were my only ...</td>\n",
       "    </tr>\n",
       "    <tr>\n",
       "      <th>215978</th>\n",
       "      <td>Yellowcard</td>\n",
       "      <td>Rock</td>\n",
       "      <td>Words, Hands, Hearts</td>\n",
       "      <td>The whole world was sleeping. And I was there....</td>\n",
       "    </tr>\n",
       "    <tr>\n",
       "      <th>215979</th>\n",
       "      <td>Yellowcard</td>\n",
       "      <td>Rock</td>\n",
       "      <td>You And Me And One Spotlight</td>\n",
       "      <td>It won't be long now. The music's on loud. We'...</td>\n",
       "    </tr>\n",
       "  </tbody>\n",
       "</table>\n",
       "<p>60585 rows × 4 columns</p>\n",
       "</div>"
      ],
      "text/plain": [
       "               Artist Genre                          Song  \\\n",
       "0       10000 Maniacs  Rock                More Than This   \n",
       "1       10000 Maniacs  Rock             Because The Night   \n",
       "2       10000 Maniacs  Rock                These Are Days   \n",
       "3       10000 Maniacs  Rock               A Campfire Song   \n",
       "4       10000 Maniacs  Rock       Everyday Is Like Sunday   \n",
       "...               ...   ...                           ...   \n",
       "215975     Yellowcard  Rock                  What Appears   \n",
       "215976     Yellowcard  Rock            When We're Old Men   \n",
       "215977     Yellowcard  Rock               With You Around   \n",
       "215978     Yellowcard  Rock          Words, Hands, Hearts   \n",
       "215979     Yellowcard  Rock  You And Me And One Spotlight   \n",
       "\n",
       "                                                    Lyric  \n",
       "0       I could feel at the time. There was no way of ...  \n",
       "1       Take me now, baby, here as I am. Hold me close...  \n",
       "2       These are. These are days you'll remember. Nev...  \n",
       "3       A lie to say, \"O my mountain has coal veins an...  \n",
       "4       Trudging slowly over wet sand. Back to the ben...  \n",
       "...                                                   ...  \n",
       "215975  Slow steady hands waving their last goodbye. T...  \n",
       "215976  I've spent all of my time on the road. Sleepin...  \n",
       "215977  Do you remember when. I said you were my only ...  \n",
       "215978  The whole world was sleeping. And I was there....  \n",
       "215979  It won't be long now. The music's on loud. We'...  \n",
       "\n",
       "[60585 rows x 4 columns]"
      ]
     },
     "execution_count": 14,
     "metadata": {},
     "output_type": "execute_result"
    }
   ],
   "source": [
    "merged_inner.loc[merged_inner['Genre'] == 'Rock']"
   ]
  },
  {
   "cell_type": "code",
   "execution_count": 15,
   "metadata": {},
   "outputs": [
    {
     "data": {
      "text/html": [
       "<div>\n",
       "<style scoped>\n",
       "    .dataframe tbody tr th:only-of-type {\n",
       "        vertical-align: middle;\n",
       "    }\n",
       "\n",
       "    .dataframe tbody tr th {\n",
       "        vertical-align: top;\n",
       "    }\n",
       "\n",
       "    .dataframe thead th {\n",
       "        text-align: right;\n",
       "    }\n",
       "</style>\n",
       "<table border=\"1\" class=\"dataframe\">\n",
       "  <thead>\n",
       "    <tr style=\"text-align: right;\">\n",
       "      <th></th>\n",
       "      <th>Artist</th>\n",
       "      <th>Genre</th>\n",
       "      <th>Song</th>\n",
       "      <th>Lyric</th>\n",
       "    </tr>\n",
       "  </thead>\n",
       "  <tbody>\n",
       "    <tr>\n",
       "      <th>3363</th>\n",
       "      <td>Beastie Boys</td>\n",
       "      <td>Hip Hop</td>\n",
       "      <td>Sabotage</td>\n",
       "      <td>I can't stand it, I know you planned it. I'm a...</td>\n",
       "    </tr>\n",
       "    <tr>\n",
       "      <th>3364</th>\n",
       "      <td>Beastie Boys</td>\n",
       "      <td>Hip Hop</td>\n",
       "      <td>Intergalactic</td>\n",
       "      <td>Intergalactic Planetary Planetary Intergalacti...</td>\n",
       "    </tr>\n",
       "    <tr>\n",
       "      <th>3365</th>\n",
       "      <td>Beastie Boys</td>\n",
       "      <td>Hip Hop</td>\n",
       "      <td>(You Gotta) Fight For Your Right (To Party!)</td>\n",
       "      <td>Kick it!. [Verse 1]. You wake up late for scho...</td>\n",
       "    </tr>\n",
       "    <tr>\n",
       "      <th>3366</th>\n",
       "      <td>Beastie Boys</td>\n",
       "      <td>Hip Hop</td>\n",
       "      <td>Sure Shot</td>\n",
       "      <td>You can't, you won't and you don't stop. Mike ...</td>\n",
       "    </tr>\n",
       "    <tr>\n",
       "      <th>3367</th>\n",
       "      <td>Beastie Boys</td>\n",
       "      <td>Hip Hop</td>\n",
       "      <td>No Sleep 'Till Brooklyn</td>\n",
       "      <td>(chorus) No sleep 'til - Brooklyn. . Foot on t...</td>\n",
       "    </tr>\n",
       "    <tr>\n",
       "      <th>...</th>\n",
       "      <td>...</td>\n",
       "      <td>...</td>\n",
       "      <td>...</td>\n",
       "      <td>...</td>\n",
       "    </tr>\n",
       "    <tr>\n",
       "      <th>219483</th>\n",
       "      <td>will.i.am</td>\n",
       "      <td>Hip Hop</td>\n",
       "      <td>This Is Love (feat. Eva Simons)</td>\n",
       "      <td>If you love it like I love it. And you feel wh...</td>\n",
       "    </tr>\n",
       "    <tr>\n",
       "      <th>219484</th>\n",
       "      <td>will.i.am</td>\n",
       "      <td>Hip Hop</td>\n",
       "      <td>We Are The Ones - Obama Song</td>\n",
       "      <td>(Obama, Obama). We can change the world, na, n...</td>\n",
       "    </tr>\n",
       "    <tr>\n",
       "      <th>219485</th>\n",
       "      <td>will.i.am</td>\n",
       "      <td>Hip Hop</td>\n",
       "      <td>What's Your Name</td>\n",
       "      <td>Ey Girl. ey ey ey girl. ey ey eh eh ey girl. W...</td>\n",
       "    </tr>\n",
       "    <tr>\n",
       "      <th>219486</th>\n",
       "      <td>will.i.am</td>\n",
       "      <td>Hip Hop</td>\n",
       "      <td>Yes We Can (barack Obama Song)</td>\n",
       "      <td>It was a creed written into the founding docum...</td>\n",
       "    </tr>\n",
       "    <tr>\n",
       "      <th>219487</th>\n",
       "      <td>will.i.am</td>\n",
       "      <td>Hip Hop</td>\n",
       "      <td>You and Me (feat. Justin Bieber)</td>\n",
       "      <td>That twitter love. Hashtag, you and me. Hashta...</td>\n",
       "    </tr>\n",
       "  </tbody>\n",
       "</table>\n",
       "<p>23108 rows × 4 columns</p>\n",
       "</div>"
      ],
      "text/plain": [
       "              Artist    Genre                                          Song  \\\n",
       "3363    Beastie Boys  Hip Hop                                      Sabotage   \n",
       "3364    Beastie Boys  Hip Hop                                 Intergalactic   \n",
       "3365    Beastie Boys  Hip Hop  (You Gotta) Fight For Your Right (To Party!)   \n",
       "3366    Beastie Boys  Hip Hop                                     Sure Shot   \n",
       "3367    Beastie Boys  Hip Hop                       No Sleep 'Till Brooklyn   \n",
       "...              ...      ...                                           ...   \n",
       "219483     will.i.am  Hip Hop               This Is Love (feat. Eva Simons)   \n",
       "219484     will.i.am  Hip Hop                  We Are The Ones - Obama Song   \n",
       "219485     will.i.am  Hip Hop                              What's Your Name   \n",
       "219486     will.i.am  Hip Hop                Yes We Can (barack Obama Song)   \n",
       "219487     will.i.am  Hip Hop              You and Me (feat. Justin Bieber)   \n",
       "\n",
       "                                                    Lyric  \n",
       "3363    I can't stand it, I know you planned it. I'm a...  \n",
       "3364    Intergalactic Planetary Planetary Intergalacti...  \n",
       "3365    Kick it!. [Verse 1]. You wake up late for scho...  \n",
       "3366    You can't, you won't and you don't stop. Mike ...  \n",
       "3367    (chorus) No sleep 'til - Brooklyn. . Foot on t...  \n",
       "...                                                   ...  \n",
       "219483  If you love it like I love it. And you feel wh...  \n",
       "219484  (Obama, Obama). We can change the world, na, n...  \n",
       "219485  Ey Girl. ey ey ey girl. ey ey eh eh ey girl. W...  \n",
       "219486  It was a creed written into the founding docum...  \n",
       "219487  That twitter love. Hashtag, you and me. Hashta...  \n",
       "\n",
       "[23108 rows x 4 columns]"
      ]
     },
     "execution_count": 15,
     "metadata": {},
     "output_type": "execute_result"
    }
   ],
   "source": [
    "merged_inner.loc[merged_inner['Genre'] == 'Hip Hop']"
   ]
  },
  {
   "cell_type": "markdown",
   "metadata": {},
   "source": [
    "### 2. Analiza zbioru danych"
   ]
  },
  {
   "cell_type": "code",
   "execution_count": 16,
   "metadata": {},
   "outputs": [],
   "source": [
    "# utwórz ramkę danych\n",
    "trainDF = merged_inner"
   ]
  },
  {
   "cell_type": "code",
   "execution_count": 17,
   "metadata": {},
   "outputs": [],
   "source": [
    "# zmien nazwy kolumn do ramki danych\n",
    "trainDF=trainDF.rename(columns={\"Lyric\": \"Tekst\", \"Genre\": \"Gatunek\"})"
   ]
  },
  {
   "cell_type": "code",
   "execution_count": 18,
   "metadata": {},
   "outputs": [
    {
     "data": {
      "text/html": [
       "<div>\n",
       "<style scoped>\n",
       "    .dataframe tbody tr th:only-of-type {\n",
       "        vertical-align: middle;\n",
       "    }\n",
       "\n",
       "    .dataframe tbody tr th {\n",
       "        vertical-align: top;\n",
       "    }\n",
       "\n",
       "    .dataframe thead th {\n",
       "        text-align: right;\n",
       "    }\n",
       "</style>\n",
       "<table border=\"1\" class=\"dataframe\">\n",
       "  <thead>\n",
       "    <tr style=\"text-align: right;\">\n",
       "      <th></th>\n",
       "      <th>Artist</th>\n",
       "      <th>Gatunek</th>\n",
       "      <th>Song</th>\n",
       "      <th>Tekst</th>\n",
       "    </tr>\n",
       "  </thead>\n",
       "  <tbody>\n",
       "    <tr>\n",
       "      <th>0</th>\n",
       "      <td>10000 Maniacs</td>\n",
       "      <td>Rock</td>\n",
       "      <td>More Than This</td>\n",
       "      <td>I could feel at the time. There was no way of ...</td>\n",
       "    </tr>\n",
       "    <tr>\n",
       "      <th>1</th>\n",
       "      <td>10000 Maniacs</td>\n",
       "      <td>Rock</td>\n",
       "      <td>Because The Night</td>\n",
       "      <td>Take me now, baby, here as I am. Hold me close...</td>\n",
       "    </tr>\n",
       "    <tr>\n",
       "      <th>2</th>\n",
       "      <td>10000 Maniacs</td>\n",
       "      <td>Rock</td>\n",
       "      <td>These Are Days</td>\n",
       "      <td>These are. These are days you'll remember. Nev...</td>\n",
       "    </tr>\n",
       "    <tr>\n",
       "      <th>3</th>\n",
       "      <td>10000 Maniacs</td>\n",
       "      <td>Rock</td>\n",
       "      <td>A Campfire Song</td>\n",
       "      <td>A lie to say, \"O my mountain has coal veins an...</td>\n",
       "    </tr>\n",
       "    <tr>\n",
       "      <th>4</th>\n",
       "      <td>10000 Maniacs</td>\n",
       "      <td>Rock</td>\n",
       "      <td>Everyday Is Like Sunday</td>\n",
       "      <td>Trudging slowly over wet sand. Back to the ben...</td>\n",
       "    </tr>\n",
       "  </tbody>\n",
       "</table>\n",
       "</div>"
      ],
      "text/plain": [
       "          Artist Gatunek                     Song  \\\n",
       "0  10000 Maniacs    Rock           More Than This   \n",
       "1  10000 Maniacs    Rock        Because The Night   \n",
       "2  10000 Maniacs    Rock           These Are Days   \n",
       "3  10000 Maniacs    Rock          A Campfire Song   \n",
       "4  10000 Maniacs    Rock  Everyday Is Like Sunday   \n",
       "\n",
       "                                               Tekst  \n",
       "0  I could feel at the time. There was no way of ...  \n",
       "1  Take me now, baby, here as I am. Hold me close...  \n",
       "2  These are. These are days you'll remember. Nev...  \n",
       "3  A lie to say, \"O my mountain has coal veins an...  \n",
       "4  Trudging slowly over wet sand. Back to the ben...  "
      ]
     },
     "execution_count": 18,
     "metadata": {},
     "output_type": "execute_result"
    }
   ],
   "source": [
    "trainDF.head()"
   ]
  },
  {
   "cell_type": "code",
   "execution_count": 19,
   "metadata": {},
   "outputs": [
    {
     "data": {
      "image/png": "[encoded data removed]",
      "text/plain": [
       "<Figure size 1584x864 with 2 Axes>"
      ]
     },
     "metadata": {
      "needs_background": "light"
     },
     "output_type": "display_data"
    }
   ],
   "source": [
    "#procentowy rozklad 2 gatunkow muzycznych w zbiorze danych\n",
    "\n",
    "genreCount = merged_inner['Genre'].value_counts()\n",
    "fig, axarr = plt.subplots(1, 2)\n",
    "fig.tight_layout()\n",
    "genreCount.plot.pie( figsize=(12, 12), ax=axarr[1], fontsize=16, autopct='%.1f' )\n",
    "genreCount.plot.bar( figsize=(22, 12), ax=axarr[0], fontsize=16 )\n",
    "plt.show()"
   ]
  },
  {
   "cell_type": "code",
   "execution_count": 20,
   "metadata": {},
   "outputs": [
    {
     "name": "stdout",
     "output_type": "stream",
     "text": [
      "                                               Tekst  word_count\n",
      "0  I could feel at the time. There was no way of ...         145\n",
      "1  Take me now, baby, here as I am. Hold me close...         238\n",
      "2  These are. These are days you'll remember. Nev...         172\n",
      "3  A lie to say, \"O my mountain has coal veins an...         263\n",
      "4  Trudging slowly over wet sand. Back to the ben...         118\n",
      "3301\n",
      "2\n",
      "283.25838481115505\n"
     ]
    }
   ],
   "source": [
    "# sprawdza liczbę słów w każdej pisence\n",
    "train = trainDF.copy()\n",
    "train['word_count'] = train['Tekst'].apply(lambda x: len(str(x).split(\" \")))\n",
    "print(train[['Tekst','word_count']].head())\n",
    "print(train['word_count'].max())\n",
    "print(train['word_count'].min())\n",
    "print(train['word_count'].mean())"
   ]
  },
  {
   "cell_type": "code",
   "execution_count": 21,
   "metadata": {},
   "outputs": [
    {
     "data": {
      "text/html": [
       "<div>\n",
       "<style scoped>\n",
       "    .dataframe tbody tr th:only-of-type {\n",
       "        vertical-align: middle;\n",
       "    }\n",
       "\n",
       "    .dataframe tbody tr th {\n",
       "        vertical-align: top;\n",
       "    }\n",
       "\n",
       "    .dataframe thead th {\n",
       "        text-align: right;\n",
       "    }\n",
       "</style>\n",
       "<table border=\"1\" class=\"dataframe\">\n",
       "  <thead>\n",
       "    <tr style=\"text-align: right;\">\n",
       "      <th></th>\n",
       "      <th>Tekst</th>\n",
       "      <th>char_count</th>\n",
       "    </tr>\n",
       "  </thead>\n",
       "  <tbody>\n",
       "    <tr>\n",
       "      <th>0</th>\n",
       "      <td>I could feel at the time. There was no way of ...</td>\n",
       "      <td>755</td>\n",
       "    </tr>\n",
       "    <tr>\n",
       "      <th>1</th>\n",
       "      <td>Take me now, baby, here as I am. Hold me close...</td>\n",
       "      <td>1253</td>\n",
       "    </tr>\n",
       "    <tr>\n",
       "      <th>2</th>\n",
       "      <td>These are. These are days you'll remember. Nev...</td>\n",
       "      <td>884</td>\n",
       "    </tr>\n",
       "    <tr>\n",
       "      <th>3</th>\n",
       "      <td>A lie to say, \"O my mountain has coal veins an...</td>\n",
       "      <td>1283</td>\n",
       "    </tr>\n",
       "    <tr>\n",
       "      <th>4</th>\n",
       "      <td>Trudging slowly over wet sand. Back to the ben...</td>\n",
       "      <td>650</td>\n",
       "    </tr>\n",
       "  </tbody>\n",
       "</table>\n",
       "</div>"
      ],
      "text/plain": [
       "                                               Tekst  char_count\n",
       "0  I could feel at the time. There was no way of ...         755\n",
       "1  Take me now, baby, here as I am. Hold me close...        1253\n",
       "2  These are. These are days you'll remember. Nev...         884\n",
       "3  A lie to say, \"O my mountain has coal veins an...        1283\n",
       "4  Trudging slowly over wet sand. Back to the ben...         650"
      ]
     },
     "execution_count": 21,
     "metadata": {},
     "output_type": "execute_result"
    }
   ],
   "source": [
    "# sprawdź liczbę znaków\n",
    "train['char_count'] = train['Tekst'].str.len() ## liczy tez spacje\n",
    "train[['Tekst','char_count']].head()"
   ]
  },
  {
   "cell_type": "code",
   "execution_count": 22,
   "metadata": {},
   "outputs": [
    {
     "data": {
      "text/plain": [
       "Artist        object\n",
       "Gatunek       object\n",
       "Song          object\n",
       "Tekst         object\n",
       "word_count     int64\n",
       "char_count     int64\n",
       "dtype: object"
      ]
     },
     "execution_count": 22,
     "metadata": {},
     "output_type": "execute_result"
    }
   ],
   "source": [
    "train.dtypes"
   ]
  },
  {
   "cell_type": "code",
   "execution_count": 23,
   "metadata": {},
   "outputs": [],
   "source": [
    "# mapujemy typ danej na stringa(potrzeba do ponizszej funkcji avg_word())\n",
    "train['Tekst']= train['Tekst'].map(str)"
   ]
  },
  {
   "cell_type": "code",
   "execution_count": 24,
   "metadata": {},
   "outputs": [
    {
     "data": {
      "text/html": [
       "<div>\n",
       "<style scoped>\n",
       "    .dataframe tbody tr th:only-of-type {\n",
       "        vertical-align: middle;\n",
       "    }\n",
       "\n",
       "    .dataframe tbody tr th {\n",
       "        vertical-align: top;\n",
       "    }\n",
       "\n",
       "    .dataframe thead th {\n",
       "        text-align: right;\n",
       "    }\n",
       "</style>\n",
       "<table border=\"1\" class=\"dataframe\">\n",
       "  <thead>\n",
       "    <tr style=\"text-align: right;\">\n",
       "      <th></th>\n",
       "      <th>Tekst</th>\n",
       "      <th>avg_word</th>\n",
       "    </tr>\n",
       "  </thead>\n",
       "  <tbody>\n",
       "    <tr>\n",
       "      <th>0</th>\n",
       "      <td>I could feel at the time. There was no way of ...</td>\n",
       "      <td>4.213793</td>\n",
       "    </tr>\n",
       "    <tr>\n",
       "      <th>1</th>\n",
       "      <td>Take me now, baby, here as I am. Hold me close...</td>\n",
       "      <td>4.268908</td>\n",
       "    </tr>\n",
       "    <tr>\n",
       "      <th>2</th>\n",
       "      <td>These are. These are days you'll remember. Nev...</td>\n",
       "      <td>4.145349</td>\n",
       "    </tr>\n",
       "    <tr>\n",
       "      <th>3</th>\n",
       "      <td>A lie to say, \"O my mountain has coal veins an...</td>\n",
       "      <td>3.882129</td>\n",
       "    </tr>\n",
       "    <tr>\n",
       "      <th>4</th>\n",
       "      <td>Trudging slowly over wet sand. Back to the ben...</td>\n",
       "      <td>4.516949</td>\n",
       "    </tr>\n",
       "  </tbody>\n",
       "</table>\n",
       "</div>"
      ],
      "text/plain": [
       "                                               Tekst  avg_word\n",
       "0  I could feel at the time. There was no way of ...  4.213793\n",
       "1  Take me now, baby, here as I am. Hold me close...  4.268908\n",
       "2  These are. These are days you'll remember. Nev...  4.145349\n",
       "3  A lie to say, \"O my mountain has coal veins an...  3.882129\n",
       "4  Trudging slowly over wet sand. Back to the ben...  4.516949"
      ]
     },
     "execution_count": 24,
     "metadata": {},
     "output_type": "execute_result"
    }
   ],
   "source": [
    "# sprawdź średnią liczbę znaków przypadających na jedno słowo\n",
    "\n",
    "def avg_word(sentence):\n",
    "  words = sentence.split()\n",
    "  return (sum(len(word) for word in words)/len(words))\n",
    "\n",
    "train['avg_word'] = train['Tekst'].apply(lambda x: avg_word(x))\n",
    "train[['Tekst','avg_word']].head()"
   ]
  },
  {
   "cell_type": "code",
   "execution_count": 25,
   "metadata": {},
   "outputs": [
    {
     "name": "stderr",
     "output_type": "stream",
     "text": [
      "[nltk_data] Downloading package stopwords to\n",
      "[nltk_data]     C:\\Users\\macie\\AppData\\Roaming\\nltk_data...\n",
      "[nltk_data]   Package stopwords is already up-to-date!\n"
     ]
    },
    {
     "data": {
      "text/html": [
       "<div>\n",
       "<style scoped>\n",
       "    .dataframe tbody tr th:only-of-type {\n",
       "        vertical-align: middle;\n",
       "    }\n",
       "\n",
       "    .dataframe tbody tr th {\n",
       "        vertical-align: top;\n",
       "    }\n",
       "\n",
       "    .dataframe thead th {\n",
       "        text-align: right;\n",
       "    }\n",
       "</style>\n",
       "<table border=\"1\" class=\"dataframe\">\n",
       "  <thead>\n",
       "    <tr style=\"text-align: right;\">\n",
       "      <th></th>\n",
       "      <th>Tekst</th>\n",
       "      <th>stopwords</th>\n",
       "    </tr>\n",
       "  </thead>\n",
       "  <tbody>\n",
       "    <tr>\n",
       "      <th>0</th>\n",
       "      <td>I could feel at the time. There was no way of ...</td>\n",
       "      <td>46</td>\n",
       "    </tr>\n",
       "    <tr>\n",
       "      <th>1</th>\n",
       "      <td>Take me now, baby, here as I am. Hold me close...</td>\n",
       "      <td>82</td>\n",
       "    </tr>\n",
       "    <tr>\n",
       "      <th>2</th>\n",
       "      <td>These are. These are days you'll remember. Nev...</td>\n",
       "      <td>66</td>\n",
       "    </tr>\n",
       "    <tr>\n",
       "      <th>3</th>\n",
       "      <td>A lie to say, \"O my mountain has coal veins an...</td>\n",
       "      <td>107</td>\n",
       "    </tr>\n",
       "    <tr>\n",
       "      <th>4</th>\n",
       "      <td>Trudging slowly over wet sand. Back to the ben...</td>\n",
       "      <td>39</td>\n",
       "    </tr>\n",
       "  </tbody>\n",
       "</table>\n",
       "</div>"
      ],
      "text/plain": [
       "                                               Tekst  stopwords\n",
       "0  I could feel at the time. There was no way of ...         46\n",
       "1  Take me now, baby, here as I am. Hold me close...         82\n",
       "2  These are. These are days you'll remember. Nev...         66\n",
       "3  A lie to say, \"O my mountain has coal veins an...        107\n",
       "4  Trudging slowly over wet sand. Back to the ben...         39"
      ]
     },
     "execution_count": 25,
     "metadata": {},
     "output_type": "execute_result"
    }
   ],
   "source": [
    "# sprawdź liczbę słów ze stoplisty (popularne angielskie słowa, które nie zawierają dodatkowej informacji dla modelu)\n",
    "\n",
    "import nltk\n",
    "nltk.download('stopwords')\n",
    "from nltk.corpus import stopwords\n",
    "\n",
    "stop = stopwords.words('english')\n",
    "\n",
    "train['stopwords'] = train['Tekst'].apply(lambda x: len([x for x in x.split() if x in stop]))\n",
    "train[['Tekst','stopwords']].head()"
   ]
  },
  {
   "cell_type": "code",
   "execution_count": 26,
   "metadata": {},
   "outputs": [
    {
     "name": "stdout",
     "output_type": "stream",
     "text": [
      "                                               Tekst  numerics\n",
      "0  I could feel at the time. There was no way of ...         0\n",
      "1  Take me now, baby, here as I am. Hold me close...         0\n",
      "2  These are. These are days you'll remember. Nev...         0\n",
      "3  A lie to say, \"O my mountain has coal veins an...         1\n",
      "4  Trudging slowly over wet sand. Back to the ben...         0\n",
      "66\n",
      "0\n",
      "0.27567419019511785\n"
     ]
    }
   ],
   "source": [
    "# sprawdź liczbę znaków numerycznych\n",
    "\n",
    "train['numerics'] = train['Tekst'].apply(lambda x: len([x for x in x.split(' ') if x.isnumeric()]))\n",
    "print(train[['Tekst','numerics']].head())\n",
    "print(train['numerics'].max())\n",
    "print(train['numerics'].min())\n",
    "print(train['numerics'].mean())"
   ]
  },
  {
   "cell_type": "code",
   "execution_count": 27,
   "metadata": {},
   "outputs": [
    {
     "name": "stdout",
     "output_type": "stream",
     "text": [
      "                                               Tekst  upper\n",
      "0  I could feel at the time. There was no way of ...      1\n",
      "1  Take me now, baby, here as I am. Hold me close...      7\n",
      "2  These are. These are days you'll remember. Nev...      2\n",
      "3  A lie to say, \"O my mountain has coal veins an...     12\n",
      "4  Trudging slowly over wet sand. Back to the ben...      2\n",
      "1126\n",
      "0\n",
      "55.10742833928764\n"
     ]
    }
   ],
   "source": [
    "# sprawdź liczbę wielkich liter\n",
    "\n",
    "train['upper'] = train['Tekst'].apply(lambda x: len([x for x in x.split() if x.isupper()]))\n",
    "print(train[['Tekst','upper']].head())\n",
    "\n",
    "train['capital'] = train['Tekst'].apply(lambda x: len([x for x in x.split(' ') if x[0].isupper()]))\n",
    "print(train['capital'].max())\n",
    "print(train['capital'].min())\n",
    "print(train['capital'].mean())"
   ]
  },
  {
   "cell_type": "code",
   "execution_count": 28,
   "metadata": {},
   "outputs": [
    {
     "name": "stdout",
     "output_type": "stream",
     "text": [
      "                                               Tekst  upper\n",
      "0  I could feel at the time. There was no way of ...      1\n",
      "1  Take me now, baby, here as I am. Hold me close...      7\n",
      "2  These are. These are days you'll remember. Nev...      2\n",
      "3  A lie to say, \"O my mountain has coal veins an...     12\n",
      "4  Trudging slowly over wet sand. Back to the ben...      2\n",
      "1126\n",
      "0\n",
      "55.10742833928764\n"
     ]
    }
   ],
   "source": [
    "# sprawdź liczbę znaków interpunkcyjnych\n",
    "\n",
    "train['punctuation'] = train['Tekst'].apply(lambda x: len(re.findall(r'[\\.,?!;:]', x)))\n",
    "print(train[['Tekst','upper']].head())\n",
    "\n",
    "train['punctuation'] = train['Tekst'].apply(lambda x: len([x for x in x.split(' ') if x[0].isupper()]))\n",
    "print(train['punctuation'].max())\n",
    "print(train['punctuation'].min())\n",
    "print(train['punctuation'].mean())"
   ]
  },
  {
   "cell_type": "markdown",
   "metadata": {},
   "source": [
    "### 3. Normalizacja tekstu"
   ]
  },
  {
   "cell_type": "code",
   "execution_count": 29,
   "metadata": {},
   "outputs": [
    {
     "data": {
      "text/plain": [
       "0    i could feel at the time. there was no way of ...\n",
       "1    take me now, baby, here as i am. hold me close...\n",
       "2    these are. these are days you'll remember. nev...\n",
       "3    a lie to say, \"o my mountain has coal veins an...\n",
       "4    trudging slowly over wet sand. back to the ben...\n",
       "Name: Tekst, dtype: object"
      ]
     },
     "execution_count": 29,
     "metadata": {},
     "output_type": "execute_result"
    }
   ],
   "source": [
    "# ujednolicenie pisowni - zamień wielkie litery na małe\n",
    "\n",
    "trainDFRaw = trainDF.copy()\n",
    "trainDF['Tekst']= trainDF['Tekst'].map(str)\n",
    "trainDF['Tekst'] = trainDF['Tekst'].apply(lambda x: \" \".join(x.lower() for x in x.split()))\n",
    "trainDF['Tekst'].head()"
   ]
  },
  {
   "cell_type": "code",
   "execution_count": 30,
   "metadata": {},
   "outputs": [
    {
     "name": "stdout",
     "output_type": "stream",
     "text": [
      "Number of round brackets: 188758\n"
     ]
    }
   ],
   "source": [
    "#szukamy zwykłych nawiasów\n",
    "text_in_round_brackets = sum(list(trainDF['Tekst'].map(lambda s: re.findall(r'\\((.*?)\\)',s))), [])\n",
    "print('Number of round brackets: {}'.format(len(text_in_round_brackets)))"
   ]
  },
  {
   "cell_type": "code",
   "execution_count": 31,
   "metadata": {},
   "outputs": [
    {
     "data": {
      "text/plain": [
       "[\"everything's on us\",\n",
       " 'watch',\n",
       " 'danger danger danger',\n",
       " 'wa la',\n",
       " 'my beat',\n",
       " 'keyshia cole',\n",
       " 'f.a.b.o',\n",
       " 'jadakiss',\n",
       " 'what do we have here now',\n",
       " 'do',\n",
       " 'oooh-oo-ooh',\n",
       " 'all the time',\n",
       " 'oh shit',\n",
       " 'shawty',\n",
       " 'kiss me baby',\n",
       " 'nope',\n",
       " 'ooo-ooo',\n",
       " 'um yeah',\n",
       " \"let's go!\",\n",
       " \"let's stop the world\"]"
      ]
     },
     "execution_count": 31,
     "metadata": {},
     "output_type": "execute_result"
    }
   ],
   "source": [
    "#przykładowe wyniki, decydujemy sie je zostawic\n",
    "random.seed(0)\n",
    "random.choices(text_in_round_brackets, k=20)"
   ]
  },
  {
   "cell_type": "code",
   "execution_count": 32,
   "metadata": {},
   "outputs": [
    {
     "name": "stdout",
     "output_type": "stream",
     "text": [
      "Number of square brackets: 74429\n"
     ]
    }
   ],
   "source": [
    "#szukamy kwadratowych nawiasów\n",
    "text_in_square_brackets = sum(list(trainDF['Tekst'].map(lambda s: re.findall(r'\\[(.*?)\\]',s))), [])\n",
    "print('Number of square brackets: {}'.format(len(text_in_square_brackets)))"
   ]
  },
  {
   "cell_type": "code",
   "execution_count": 33,
   "metadata": {},
   "outputs": [
    {
     "data": {
      "text/plain": [
       "['money mike:',\n",
       " '?',\n",
       " 'tray',\n",
       " 'ja rule',\n",
       " 'lo',\n",
       " 'chorus',\n",
       " 'talking:',\n",
       " 'john cena',\n",
       " 'chorus',\n",
       " 'get down',\n",
       " '2x',\n",
       " \"lil' kim\",\n",
       " 'amil',\n",
       " 'eminem - chorus',\n",
       " \"(duck down when we take aim, remainin on point. that's how we stay ahead of the game, like links and chains)\",\n",
       " 'kina grannis',\n",
       " '?',\n",
       " 'avant',\n",
       " 'r kelly (austin mahone) :',\n",
       " 'x3']"
      ]
     },
     "execution_count": 33,
     "metadata": {},
     "output_type": "execute_result"
    }
   ],
   "source": [
    "#przykładowe wyniki, decydujemy sie je pozniej usunąć\n",
    "random.seed(0)\n",
    "random.choices(text_in_square_brackets, k=20)"
   ]
  },
  {
   "cell_type": "code",
   "execution_count": 34,
   "metadata": {},
   "outputs": [
    {
     "name": "stdout",
     "output_type": "stream",
     "text": [
      "Number of square brackets: 2701\n"
     ]
    }
   ],
   "source": [
    "#szukamy kręconcyh nawiasów\n",
    "text_in_curly_brackets = sum(list(trainDF['Tekst'].map(lambda s: re.findall(r'\\{(.*?)\\}',s))), [])\n",
    "print('Number of square brackets: {}'.format(len(text_in_curly_brackets)))"
   ]
  },
  {
   "cell_type": "code",
   "execution_count": 35,
   "metadata": {},
   "outputs": [
    {
     "data": {
      "text/plain": [
       "['mother fucker',\n",
       " '\"gangsta boogie!\"',\n",
       " 'oh yea, yea',\n",
       " '*lapse over chorus*',\n",
       " 'chorus',\n",
       " 'we ready to rock',\n",
       " '\"you wouldn\\'t get far\"',\n",
       " '*\"it was all..\"*',\n",
       " 'outlawz',\n",
       " 'short dog',\n",
       " 'repeat',\n",
       " 'chorus (slight change)',\n",
       " 'chuckles',\n",
       " '\"gangsta boogie\"',\n",
       " \"little homey just didn't make way. got blazed on the strip\",\n",
       " '*gunshot*',\n",
       " ':46',\n",
       " 'chorus: ',\n",
       " 'hook',\n",
       " '\"and who the fuck are you?\"']"
      ]
     },
     "execution_count": 35,
     "metadata": {},
     "output_type": "execute_result"
    }
   ],
   "source": [
    "#przykładowe wyniki, decydujemy sie je zostawic\n",
    "random.seed(0)\n",
    "random.choices(text_in_curly_brackets, k=20)"
   ]
  },
  {
   "cell_type": "code",
   "execution_count": 36,
   "metadata": {},
   "outputs": [],
   "source": [
    "# usuniecie nawiasow kwadratowych ale razem z tekstem w srodku!!!\n",
    "trainDF['Tekst'] = trainDF['Tekst'].map(lambda s: re.sub(r'\\[(.*?)\\] ', '', s))"
   ]
  },
  {
   "cell_type": "code",
   "execution_count": 37,
   "metadata": {},
   "outputs": [
    {
     "data": {
      "text/plain": [
       "0    i could feel at the time there was no way of k...\n",
       "1    take me now baby here as i am hold me close an...\n",
       "2    these are these are days youll remember never ...\n",
       "3    a lie to say o my mountain has coal veins and ...\n",
       "4    trudging slowly over wet sand back to the benc...\n",
       "Name: Tekst, dtype: object"
      ]
     },
     "execution_count": 37,
     "metadata": {},
     "output_type": "execute_result"
    }
   ],
   "source": [
    "# usunięcie wszystkich znaków poza literami i biłymi znakami\n",
    "\n",
    "trainDF['Tekst'] = trainDF['Tekst'].str.replace('[^\\w\\s]','')\n",
    "trainDF['Tekst'].head()"
   ]
  },
  {
   "cell_type": "code",
   "execution_count": 38,
   "metadata": {},
   "outputs": [
    {
     "data": {
      "text/plain": [
       "0    could feel time way knowing fallen leaves nigh...\n",
       "1    take baby hold close try understand desire hun...\n",
       "2    days youll remember never never since promise ...\n",
       "3    lie say mountain coal veins beds dig 500 men a...\n",
       "4    trudging slowly wet sand back bench clothes st...\n",
       "Name: Tekst, dtype: object"
      ]
     },
     "execution_count": 38,
     "metadata": {},
     "output_type": "execute_result"
    }
   ],
   "source": [
    "# usunięcie słów \"stopwords\"\n",
    "\n",
    "english_stopwords = stopwords.words('english')\n",
    "\n",
    "trainDF['Tekst'] = trainDF['Tekst'].apply(lambda x: \" \".join(x for x in x.split() if x not in english_stopwords))\n",
    "\n",
    "trainDF['Tekst'].head()"
   ]
  },
  {
   "cell_type": "code",
   "execution_count": 39,
   "metadata": {},
   "outputs": [
    {
     "data": {
      "text/plain": [
       "im       242166\n",
       "dont     159884\n",
       "like     150864\n",
       "know     142308\n",
       "love     117637\n",
       "got      115306\n",
       "get      112165\n",
       "oh        87739\n",
       "go        86652\n",
       "one       75508\n",
       "see       75281\n",
       "yeah      75189\n",
       "youre     73116\n",
       "time      71673\n",
       "baby      70393\n",
       "cant      69619\n",
       "never     68164\n",
       "want      64821\n",
       "back      62445\n",
       "come      62345\n",
       "dtype: int64"
      ]
     },
     "execution_count": 39,
     "metadata": {},
     "output_type": "execute_result"
    }
   ],
   "source": [
    "# przygotowanie listy najczęściej wystepujących słów\n",
    "\n",
    "freq = pd.Series(' '.join(trainDF['Tekst']).split()).value_counts()[:20]\n",
    "freq"
   ]
  },
  {
   "cell_type": "code",
   "execution_count": 40,
   "metadata": {},
   "outputs": [
    {
     "data": {
      "image/png": "[encoded data removed]",
      "text/plain": [
       "<Figure size 432x288 with 1 Axes>"
      ]
     },
     "metadata": {
      "needs_background": "light"
     },
     "output_type": "display_data"
    }
   ],
   "source": [
    "# wykres najczesciej wystepujacych slow\n",
    "ax = plt.gca()\n",
    "freq.plot(kind='line', ax=ax)\n",
    "ax.grid()\n",
    "plt.show()"
   ]
  },
  {
   "cell_type": "code",
   "execution_count": 41,
   "metadata": {},
   "outputs": [
    {
     "data": {
      "text/plain": [
       "0    could feel way knowing fallen leaves night say...\n",
       "1    take hold close try understand desire hunger f...\n",
       "2    days youll remember since promise whole world ...\n",
       "3    lie say mountain coal veins beds dig 500 men a...\n",
       "4    trudging slowly wet sand bench clothes stolen ...\n",
       "Name: Tekst, dtype: object"
      ]
     },
     "execution_count": 41,
     "metadata": {},
     "output_type": "execute_result"
    }
   ],
   "source": [
    "# usunięcie słów najczęściej występujących\n",
    "\n",
    "freq = list(freq.index)\n",
    "trainDF['Tekst'] = trainDF['Tekst'].apply(lambda x: \" \".join(x for x in x.split() if x not in freq))\n",
    "trainDF['Tekst'].head()"
   ]
  },
  {
   "cell_type": "code",
   "execution_count": 42,
   "metadata": {},
   "outputs": [
    {
     "data": {
      "text/plain": [
       "ontoss            1\n",
       "sandsafe          1\n",
       "capably           1\n",
       "redoubt           1\n",
       "chevill           1\n",
       "stret             1\n",
       "noisemakers       1\n",
       "egofuck           1\n",
       "doving            1\n",
       "misdomener        1\n",
       "queenly           1\n",
       "syko              1\n",
       "loveeee           1\n",
       "isoldt            1\n",
       "newishness        1\n",
       "haikus            1\n",
       "eisley            1\n",
       "ltdrca            1\n",
       "cmw               1\n",
       "selfcontrolled    1\n",
       "dtype: int64"
      ]
     },
     "execution_count": 42,
     "metadata": {},
     "output_type": "execute_result"
    }
   ],
   "source": [
    "# przygotowanie listy słów najrzadziej występujących\n",
    "\n",
    "freq = pd.Series(' '.join(trainDF['Tekst']).split()).value_counts()[-20:]\n",
    "freq"
   ]
  },
  {
   "cell_type": "code",
   "execution_count": 43,
   "metadata": {},
   "outputs": [
    {
     "data": {
      "text/plain": [
       "0    could feel way knowing fallen leaves night say...\n",
       "1    take hold close try understand desire hunger f...\n",
       "2    days youll remember since promise whole world ...\n",
       "3    lie say mountain coal veins beds dig 500 men a...\n",
       "4    trudging slowly wet sand bench clothes stolen ...\n",
       "Name: Tekst, dtype: object"
      ]
     },
     "execution_count": 43,
     "metadata": {},
     "output_type": "execute_result"
    }
   ],
   "source": [
    "# usuniecie słów najrzadziej wystepujących\n",
    "\n",
    "freq = list(freq.index)\n",
    "trainDF['Tekst'] = trainDF['Tekst'].apply(lambda x: \" \".join(x for x in x.split() if x not in freq))\n",
    "trainDF['Tekst'].head()"
   ]
  },
  {
   "cell_type": "code",
   "execution_count": 44,
   "metadata": {},
   "outputs": [
    {
     "data": {
      "text/plain": [
       "0    could feel way knowing fallen leaves night say...\n",
       "1    take hold close try understand desire hunger f...\n",
       "2    days you remember since promise whole world wa...\n",
       "3    lie say mountain coal veins beds dig 500 men a...\n",
       "4    grudging slowly wet sand bench clothes stolen ...\n",
       "Name: Tekst, dtype: object"
      ]
     },
     "execution_count": 44,
     "metadata": {},
     "output_type": "execute_result"
    }
   ],
   "source": [
    "# poprawa pisowni (literówki)\n",
    "\n",
    "from textblob import TextBlob\n",
    "trainDF['Tekst'][:5].apply(lambda x: str(TextBlob(x).correct()))"
   ]
  },
  {
   "cell_type": "code",
   "execution_count": 45,
   "metadata": {},
   "outputs": [
    {
     "name": "stderr",
     "output_type": "stream",
     "text": [
      "[nltk_data] Downloading package wordnet to\n",
      "[nltk_data]     C:\\Users\\macie\\AppData\\Roaming\\nltk_data...\n",
      "[nltk_data]   Package wordnet is already up-to-date!\n"
     ]
    },
    {
     "data": {
      "text/plain": [
       "0    could feel way knowing fallen leaf night say t...\n",
       "1    take hold close try understand desire hunger f...\n",
       "2    day youll remember since promise whole world w...\n",
       "3    lie say mountain coal vein bed dig 500 men ax ...\n",
       "4    trudging slowly wet sand bench clothes stolen ...\n",
       "Name: Tekst, dtype: object"
      ]
     },
     "execution_count": 45,
     "metadata": {},
     "output_type": "execute_result"
    }
   ],
   "source": [
    "#lematyzacja - zamiana słów na ich podstawową formą\n",
    "\n",
    "from textblob import Word\n",
    "nltk.download('wordnet')\n",
    "\n",
    "trainDF = trainDF.copy()\n",
    "trainDF['Tekst'] = trainDF['Tekst'].apply(lambda x: \" \".join([Word(word).lemmatize() for word in x.split()]))\n",
    "trainDF['Tekst'].head()"
   ]
  },
  {
   "cell_type": "code",
   "execution_count": 46,
   "metadata": {},
   "outputs": [
    {
     "data": {
      "text/html": [
       "<div>\n",
       "<style scoped>\n",
       "    .dataframe tbody tr th:only-of-type {\n",
       "        vertical-align: middle;\n",
       "    }\n",
       "\n",
       "    .dataframe tbody tr th {\n",
       "        vertical-align: top;\n",
       "    }\n",
       "\n",
       "    .dataframe thead th {\n",
       "        text-align: right;\n",
       "    }\n",
       "</style>\n",
       "<table border=\"1\" class=\"dataframe\">\n",
       "  <thead>\n",
       "    <tr style=\"text-align: right;\">\n",
       "      <th></th>\n",
       "      <th>Artist</th>\n",
       "      <th>Gatunek</th>\n",
       "      <th>Song</th>\n",
       "      <th>Tekst</th>\n",
       "    </tr>\n",
       "  </thead>\n",
       "  <tbody>\n",
       "    <tr>\n",
       "      <th>0</th>\n",
       "      <td>10000 Maniacs</td>\n",
       "      <td>Rock</td>\n",
       "      <td>More Than This</td>\n",
       "      <td>could feel way knowing fallen leaf night say t...</td>\n",
       "    </tr>\n",
       "    <tr>\n",
       "      <th>1</th>\n",
       "      <td>10000 Maniacs</td>\n",
       "      <td>Rock</td>\n",
       "      <td>Because The Night</td>\n",
       "      <td>take hold close try understand desire hunger f...</td>\n",
       "    </tr>\n",
       "    <tr>\n",
       "      <th>2</th>\n",
       "      <td>10000 Maniacs</td>\n",
       "      <td>Rock</td>\n",
       "      <td>These Are Days</td>\n",
       "      <td>day youll remember since promise whole world w...</td>\n",
       "    </tr>\n",
       "    <tr>\n",
       "      <th>3</th>\n",
       "      <td>10000 Maniacs</td>\n",
       "      <td>Rock</td>\n",
       "      <td>A Campfire Song</td>\n",
       "      <td>lie say mountain coal vein bed dig 500 men ax ...</td>\n",
       "    </tr>\n",
       "    <tr>\n",
       "      <th>4</th>\n",
       "      <td>10000 Maniacs</td>\n",
       "      <td>Rock</td>\n",
       "      <td>Everyday Is Like Sunday</td>\n",
       "      <td>trudging slowly wet sand bench clothes stolen ...</td>\n",
       "    </tr>\n",
       "    <tr>\n",
       "      <th>5</th>\n",
       "      <td>10000 Maniacs</td>\n",
       "      <td>Rock</td>\n",
       "      <td>Don't Talk</td>\n",
       "      <td>talk listen talk keep distance id rather hear ...</td>\n",
       "    </tr>\n",
       "    <tr>\n",
       "      <th>6</th>\n",
       "      <td>10000 Maniacs</td>\n",
       "      <td>Rock</td>\n",
       "      <td>Across The Fields</td>\n",
       "      <td>well left morning hundred pair wing light move...</td>\n",
       "    </tr>\n",
       "    <tr>\n",
       "      <th>7</th>\n",
       "      <td>10000 Maniacs</td>\n",
       "      <td>Rock</td>\n",
       "      <td>Planned Obsolescence</td>\n",
       "      <td>music dennis drewlyric natalie merchant scienc...</td>\n",
       "    </tr>\n",
       "    <tr>\n",
       "      <th>8</th>\n",
       "      <td>10000 Maniacs</td>\n",
       "      <td>Rock</td>\n",
       "      <td>Rainy Day</td>\n",
       "      <td>bended kneeive looked every window touched bot...</td>\n",
       "    </tr>\n",
       "    <tr>\n",
       "      <th>9</th>\n",
       "      <td>10000 Maniacs</td>\n",
       "      <td>Rock</td>\n",
       "      <td>Anthem For Doomed Youth</td>\n",
       "      <td>bell toll sentenced die stuttering rifle stifl...</td>\n",
       "    </tr>\n",
       "  </tbody>\n",
       "</table>\n",
       "</div>"
      ],
      "text/plain": [
       "          Artist Gatunek                     Song  \\\n",
       "0  10000 Maniacs    Rock           More Than This   \n",
       "1  10000 Maniacs    Rock        Because The Night   \n",
       "2  10000 Maniacs    Rock           These Are Days   \n",
       "3  10000 Maniacs    Rock          A Campfire Song   \n",
       "4  10000 Maniacs    Rock  Everyday Is Like Sunday   \n",
       "5  10000 Maniacs    Rock               Don't Talk   \n",
       "6  10000 Maniacs    Rock        Across The Fields   \n",
       "7  10000 Maniacs    Rock     Planned Obsolescence   \n",
       "8  10000 Maniacs    Rock                Rainy Day   \n",
       "9  10000 Maniacs    Rock  Anthem For Doomed Youth   \n",
       "\n",
       "                                               Tekst  \n",
       "0  could feel way knowing fallen leaf night say t...  \n",
       "1  take hold close try understand desire hunger f...  \n",
       "2  day youll remember since promise whole world w...  \n",
       "3  lie say mountain coal vein bed dig 500 men ax ...  \n",
       "4  trudging slowly wet sand bench clothes stolen ...  \n",
       "5  talk listen talk keep distance id rather hear ...  \n",
       "6  well left morning hundred pair wing light move...  \n",
       "7  music dennis drewlyric natalie merchant scienc...  \n",
       "8  bended kneeive looked every window touched bot...  \n",
       "9  bell toll sentenced die stuttering rifle stifl...  "
      ]
     },
     "execution_count": 46,
     "metadata": {},
     "output_type": "execute_result"
    }
   ],
   "source": [
    "trainDF.head(10)"
   ]
  },
  {
   "cell_type": "markdown",
   "metadata": {},
   "source": [
    "### 3. Przygotowanie modelu"
   ]
  },
  {
   "cell_type": "code",
   "execution_count": 47,
   "metadata": {},
   "outputs": [],
   "source": [
    "#czyscimy teksty ze znakow specjalnych za pomoca prostej funkcji z regexem, przyda sie pozniej\n",
    "def cleanse (text):\n",
    "    result = re.sub('[^a-zA-Z0-9 ]', ' ', text)\n",
    "    return result"
   ]
  },
  {
   "cell_type": "code",
   "execution_count": 48,
   "metadata": {},
   "outputs": [
    {
     "data": {
      "text/html": [
       "<div>\n",
       "<style scoped>\n",
       "    .dataframe tbody tr th:only-of-type {\n",
       "        vertical-align: middle;\n",
       "    }\n",
       "\n",
       "    .dataframe tbody tr th {\n",
       "        vertical-align: top;\n",
       "    }\n",
       "\n",
       "    .dataframe thead th {\n",
       "        text-align: right;\n",
       "    }\n",
       "</style>\n",
       "<table border=\"1\" class=\"dataframe\">\n",
       "  <thead>\n",
       "    <tr style=\"text-align: right;\">\n",
       "      <th></th>\n",
       "      <th>Artist</th>\n",
       "      <th>Gatunek</th>\n",
       "      <th>Song</th>\n",
       "      <th>Tekst</th>\n",
       "    </tr>\n",
       "  </thead>\n",
       "  <tbody>\n",
       "    <tr>\n",
       "      <th>0</th>\n",
       "      <td>10000 Maniacs</td>\n",
       "      <td>Rock</td>\n",
       "      <td>More Than This</td>\n",
       "      <td>could feel way knowing fallen leaf night say t...</td>\n",
       "    </tr>\n",
       "    <tr>\n",
       "      <th>1</th>\n",
       "      <td>10000 Maniacs</td>\n",
       "      <td>Rock</td>\n",
       "      <td>Because The Night</td>\n",
       "      <td>take hold close try understand desire hunger f...</td>\n",
       "    </tr>\n",
       "    <tr>\n",
       "      <th>2</th>\n",
       "      <td>10000 Maniacs</td>\n",
       "      <td>Rock</td>\n",
       "      <td>These Are Days</td>\n",
       "      <td>day youll remember since promise whole world w...</td>\n",
       "    </tr>\n",
       "    <tr>\n",
       "      <th>3</th>\n",
       "      <td>10000 Maniacs</td>\n",
       "      <td>Rock</td>\n",
       "      <td>A Campfire Song</td>\n",
       "      <td>lie say mountain coal vein bed dig 500 men ax ...</td>\n",
       "    </tr>\n",
       "    <tr>\n",
       "      <th>4</th>\n",
       "      <td>10000 Maniacs</td>\n",
       "      <td>Rock</td>\n",
       "      <td>Everyday Is Like Sunday</td>\n",
       "      <td>trudging slowly wet sand bench clothes stolen ...</td>\n",
       "    </tr>\n",
       "  </tbody>\n",
       "</table>\n",
       "</div>"
      ],
      "text/plain": [
       "          Artist Gatunek                     Song  \\\n",
       "0  10000 Maniacs    Rock           More Than This   \n",
       "1  10000 Maniacs    Rock        Because The Night   \n",
       "2  10000 Maniacs    Rock           These Are Days   \n",
       "3  10000 Maniacs    Rock          A Campfire Song   \n",
       "4  10000 Maniacs    Rock  Everyday Is Like Sunday   \n",
       "\n",
       "                                               Tekst  \n",
       "0  could feel way knowing fallen leaf night say t...  \n",
       "1  take hold close try understand desire hunger f...  \n",
       "2  day youll remember since promise whole world w...  \n",
       "3  lie say mountain coal vein bed dig 500 men ax ...  \n",
       "4  trudging slowly wet sand bench clothes stolen ...  "
      ]
     },
     "execution_count": 48,
     "metadata": {},
     "output_type": "execute_result"
    }
   ],
   "source": [
    "rock_songs = trainDF[trainDF['Gatunek']=='Rock']\n",
    "rock_songs = rock_songs.dropna() # usuwamy niekompletene teksty\n",
    "rock_songs = rock_songs[rock_songs['Tekst']!='Instrumental'].head(SONGS_PER_GENRE).applymap(cleanse) #usuwamy same insturmentale\n",
    "rock_songs.head()"
   ]
  },
  {
   "cell_type": "code",
   "execution_count": 49,
   "metadata": {},
   "outputs": [
    {
     "data": {
      "text/html": [
       "<div>\n",
       "<style scoped>\n",
       "    .dataframe tbody tr th:only-of-type {\n",
       "        vertical-align: middle;\n",
       "    }\n",
       "\n",
       "    .dataframe tbody tr th {\n",
       "        vertical-align: top;\n",
       "    }\n",
       "\n",
       "    .dataframe thead th {\n",
       "        text-align: right;\n",
       "    }\n",
       "</style>\n",
       "<table border=\"1\" class=\"dataframe\">\n",
       "  <thead>\n",
       "    <tr style=\"text-align: right;\">\n",
       "      <th></th>\n",
       "      <th>Artist</th>\n",
       "      <th>Gatunek</th>\n",
       "      <th>Song</th>\n",
       "      <th>Tekst</th>\n",
       "    </tr>\n",
       "  </thead>\n",
       "  <tbody>\n",
       "    <tr>\n",
       "      <th>3363</th>\n",
       "      <td>Beastie Boys</td>\n",
       "      <td>Hip Hop</td>\n",
       "      <td>Sabotage</td>\n",
       "      <td>stand planned set straight watergate stand roc...</td>\n",
       "    </tr>\n",
       "    <tr>\n",
       "      <th>3364</th>\n",
       "      <td>Beastie Boys</td>\n",
       "      <td>Hip Hop</td>\n",
       "      <td>Intergalactic</td>\n",
       "      <td>intergalactic planetary planetary intergalacti...</td>\n",
       "    </tr>\n",
       "    <tr>\n",
       "      <th>3365</th>\n",
       "      <td>Beastie Boys</td>\n",
       "      <td>Hip Hop</td>\n",
       "      <td>You Gotta  Fight For Your Right  To Party</td>\n",
       "      <td>kick verse 1 wake late school man wanna ask mo...</td>\n",
       "    </tr>\n",
       "    <tr>\n",
       "      <th>3366</th>\n",
       "      <td>Beastie Boys</td>\n",
       "      <td>Hip Hop</td>\n",
       "      <td>Sure Shot</td>\n",
       "      <td>wont stop mike rock sure shot ive brand new do...</td>\n",
       "    </tr>\n",
       "    <tr>\n",
       "      <th>3367</th>\n",
       "      <td>Beastie Boys</td>\n",
       "      <td>Hip Hop</td>\n",
       "      <td>No Sleep  Till Brooklyn</td>\n",
       "      <td>chorus sleep til brooklyn foot pedal ever fals...</td>\n",
       "    </tr>\n",
       "  </tbody>\n",
       "</table>\n",
       "</div>"
      ],
      "text/plain": [
       "            Artist  Gatunek                                          Song  \\\n",
       "3363  Beastie Boys  Hip Hop                                      Sabotage   \n",
       "3364  Beastie Boys  Hip Hop                                 Intergalactic   \n",
       "3365  Beastie Boys  Hip Hop   You Gotta  Fight For Your Right  To Party     \n",
       "3366  Beastie Boys  Hip Hop                                     Sure Shot   \n",
       "3367  Beastie Boys  Hip Hop                       No Sleep  Till Brooklyn   \n",
       "\n",
       "                                                  Tekst  \n",
       "3363  stand planned set straight watergate stand roc...  \n",
       "3364  intergalactic planetary planetary intergalacti...  \n",
       "3365  kick verse 1 wake late school man wanna ask mo...  \n",
       "3366  wont stop mike rock sure shot ive brand new do...  \n",
       "3367  chorus sleep til brooklyn foot pedal ever fals...  "
      ]
     },
     "execution_count": 49,
     "metadata": {},
     "output_type": "execute_result"
    }
   ],
   "source": [
    "hiphop_songs = trainDF[trainDF['Gatunek']=='Hip Hop']\n",
    "hiphop_songs = hiphop_songs.dropna() # usuwamy niekompletene teksty\n",
    "hiphop_songs = hiphop_songs[hiphop_songs['Tekst']!='Instrumental'].head(SONGS_PER_GENRE).applymap(cleanse) #usuwamy same insturmentale\n",
    "hiphop_songs.head()"
   ]
  },
  {
   "cell_type": "code",
   "execution_count": 50,
   "metadata": {},
   "outputs": [
    {
     "name": "stdout",
     "output_type": "stream",
     "text": [
      "Hip Hop - 20000 | Rock - 20000\n"
     ]
    }
   ],
   "source": [
    "# sprawdzamy liczbe tekstow powinna zgadzac sie ze zmienna globalna na poczatku\n",
    "print(\"Hip Hop -\", len(hiphop_songs), \"| Rock -\",len(rock_songs))"
   ]
  },
  {
   "cell_type": "code",
   "execution_count": 51,
   "metadata": {},
   "outputs": [],
   "source": [
    "#przygotuj treningowe dane poprzez wybranie rownej liczby\n",
    "training_data = pd.concat([hiphop_songs.head(SONGS_PER_TRAINING), rock_songs.head(SONGS_PER_TRAINING)])"
   ]
  },
  {
   "cell_type": "code",
   "execution_count": 52,
   "metadata": {},
   "outputs": [
    {
     "name": "stdout",
     "output_type": "stream",
     "text": [
      "4000 samples x  24123 words in vocabulary\n"
     ]
    }
   ],
   "source": [
    "#stworz słownik słów\n",
    "cv = CountVectorizer(strip_accents='ascii', lowercase=True, stop_words='english', analyzer='word') #stworz objekt CountVectorizer\n",
    "cv.fit(training_data['Tekst'].values)\n",
    "\n",
    "#stworz reprezentacje BOW\n",
    "bow = cv.transform(training_data['Tekst'].values) \n",
    "print(bow.shape[0], 'samples x ',bow.shape[1],'words in vocabulary' )"
   ]
  },
  {
   "cell_type": "code",
   "execution_count": 53,
   "metadata": {},
   "outputs": [
    {
     "name": "stdout",
     "output_type": "stream",
     "text": [
      "Training Logistic Regression\n",
      "Training Linear SVC\n"
     ]
    },
    {
     "name": "stderr",
     "output_type": "stream",
     "text": [
      "C:\\ProgramData\\Anaconda3\\lib\\site-packages\\sklearn\\svm\\_base.py:976: ConvergenceWarning: Liblinear failed to converge, increase the number of iterations.\n",
      "  warnings.warn(\"Liblinear failed to converge, increase \"\n"
     ]
    },
    {
     "name": "stdout",
     "output_type": "stream",
     "text": [
      "Training Decision Tree\n",
      "Training Gradient Descent\n"
     ]
    }
   ],
   "source": [
    "#stworz klasyfikator obietku ML\n",
    "models = {'Logistic Regression':LogisticRegression(max_iter=600), 'Linear SVC':LinearSVC(max_iter=15000),'Decision Tree': DecisionTreeClassifier(), 'Gradient Descent': SGDClassifier()}\n",
    "for the_model in models.keys():\n",
    "    print (\"Training\", the_model)\n",
    "    models[the_model].fit(bow.toarray(), training_data['Gatunek'])"
   ]
  },
  {
   "cell_type": "code",
   "execution_count": 54,
   "metadata": {},
   "outputs": [],
   "source": [
    "#przygotuj dane do testowania\n",
    "test_data=pd.concat([hiphop_songs.iloc[SONGS_PER_TRAINING:SONGS_PER_TRAINING+SONGS_PER_TESTING], rock_songs.iloc[SONGS_PER_TRAINING:SONGS_PER_TRAINING+SONGS_PER_TESTING]])\n",
    "\n",
    "#przekonwertuj tekst to reprezentacji BOW\n",
    "test_bow = cv.transform(test_data['Tekst'].values) "
   ]
  },
  {
   "cell_type": "code",
   "execution_count": 55,
   "metadata": {
    "scrolled": true
   },
   "outputs": [
    {
     "name": "stdout",
     "output_type": "stream",
     "text": [
      "Kalkulowanie Logistic Regression\n",
      "Kalkulowanie Linear SVC\n",
      "Kalkulowanie Decision Tree\n",
      "Kalkulowanie Gradient Descent\n",
      "{'Logistic Regression': 0.7375, 'Linear SVC': 0.7175, 'Decision Tree': 0.7725, 'Gradient Descent': 0.73}\n"
     ]
    }
   ],
   "source": [
    "#sproboj przewidziec gatunek muzyczny na podstawie tekstu\n",
    "accuracy = {}\n",
    "pg = test_data[['Artist', 'Song','Gatunek']]\n",
    "accuracy_compare = {}\n",
    "for the_model in models.keys():\n",
    "    print(\"Kalkulowanie\",the_model)\n",
    "    pred_genre= models[the_model].predict(test_bow.toarray())\n",
    "    pg[the_model]=pred_genre\n",
    "    accuracy[the_model]=accuracy_score(test_data['Gatunek'],pred_genre)\n",
    "print(accuracy)"
   ]
  },
  {
   "cell_type": "code",
   "execution_count": 56,
   "metadata": {},
   "outputs": [
    {
     "data": {
      "text/html": [
       "<div>\n",
       "<style scoped>\n",
       "    .dataframe tbody tr th:only-of-type {\n",
       "        vertical-align: middle;\n",
       "    }\n",
       "\n",
       "    .dataframe tbody tr th {\n",
       "        vertical-align: top;\n",
       "    }\n",
       "\n",
       "    .dataframe thead th {\n",
       "        text-align: right;\n",
       "    }\n",
       "</style>\n",
       "<table border=\"1\" class=\"dataframe\">\n",
       "  <thead>\n",
       "    <tr style=\"text-align: right;\">\n",
       "      <th></th>\n",
       "      <th>Logistic Regression</th>\n",
       "      <th>Linear SVC</th>\n",
       "      <th>Decision Tree</th>\n",
       "      <th>Gradient Descent</th>\n",
       "    </tr>\n",
       "  </thead>\n",
       "  <tbody>\n",
       "    <tr>\n",
       "      <th>precision</th>\n",
       "      <td>0.7375</td>\n",
       "      <td>0.7175</td>\n",
       "      <td>0.7725</td>\n",
       "      <td>0.73</td>\n",
       "    </tr>\n",
       "  </tbody>\n",
       "</table>\n",
       "</div>"
      ],
      "text/plain": [
       "           Logistic Regression  Linear SVC  Decision Tree  Gradient Descent\n",
       "precision               0.7375      0.7175         0.7725              0.73"
      ]
     },
     "execution_count": 56,
     "metadata": {},
     "output_type": "execute_result"
    }
   ],
   "source": [
    "df_compare = pd.DataFrame(accuracy, index = ['precision'])\n",
    "df_compare.head()"
   ]
  },
  {
   "cell_type": "code",
   "execution_count": 57,
   "metadata": {
    "scrolled": true
   },
   "outputs": [
    {
     "data": {
      "text/plain": [
       "<AxesSubplot:>"
      ]
     },
     "execution_count": 57,
     "metadata": {},
     "output_type": "execute_result"
    },
    {
     "data": {
      "image/png": "[encoded data removed]",
      "text/plain": [
       "<Figure size 432x288 with 1 Axes>"
      ]
     },
     "metadata": {
      "needs_background": "light"
     },
     "output_type": "display_data"
    }
   ],
   "source": [
    "#porowanianie wynikow na wykresie\n",
    "df_compare.plot(kind='bar')"
   ]
  },
  {
   "cell_type": "code",
   "execution_count": 58,
   "metadata": {},
   "outputs": [
    {
     "name": "stdout",
     "output_type": "stream",
     "text": [
      "night\n",
      "Logistic Regression ['Hip Hop']\n",
      "Linear SVC ['Hip Hop']\n",
      "Decision Tree ['Hip Hop']\n",
      "Gradient Descent ['Rock']\n"
     ]
    }
   ],
   "source": [
    "#podaj fragment piosenki\n",
    "podaj_tekst = input()\n",
    "\n",
    "#przetranswormuj je w BOW\n",
    "user_bow = cv.transform([cleanse(podaj_tekst)]) \n",
    "\n",
    "#sprawdz tekst na wytrenowanych modelach\n",
    "for the_model in models.keys():\n",
    "    print(the_model, models[the_model].predict(user_bow))"
   ]
  },
  {
   "cell_type": "markdown",
   "metadata": {},
   "source": [
    "### 4. Analiza wyników i własne obserwacje"
   ]
  },
  {
   "cell_type": "code",
   "execution_count": 59,
   "metadata": {},
   "outputs": [
    {
     "data": {
      "text/plain": [
       "'\\n 1. Wybor odpowienich danych oraz ich przygotowanie ma kluczowe znaczenie dla calego projektu,\\n tutaj moznaby było poszukac lepszego zbioru utworów.\\n 2. Pomimo dokładnej normalizacji tekstu i tak wkradną się tam niechciane \"śmieci\".\\n 3. Dłuższe utwory(tekst) nie zawsze oznaczają wiekszą dokładność.\\n 4. Wiekszy zbior danych nie zawsze oznacza większą dokładność.\\n 5. Pod wzgledem dokładnosci wygyrywa regresja logistyczna, restza modeli nie wypadła  gorzej, wszystkie wyniki sa zblizone.\\n 6. Spodziwalismy sie gorszych wynikow jesli chodzi o dokładnosc testownych modeli.\\n 7. Zdziwiła nas średnia tez liczba liter w słowie, pozniewaz dla wielu utowrów nie przkroczyła ona średniej 4.0\\n'"
      ]
     },
     "execution_count": 59,
     "metadata": {},
     "output_type": "execute_result"
    }
   ],
   "source": [
    "\"\"\"\n",
    " 1. Wybor odpowienich danych oraz ich przygotowanie ma kluczowe znaczenie dla calego projektu,\n",
    " tutaj moznaby było poszukac lepszego zbioru utworów.\n",
    " 2. Pomimo dokładnej normalizacji tekstu i tak wkradną się tam niechciane \"śmieci\".\n",
    " 3. Dłuższe utwory(tekst) nie zawsze oznaczają wiekszą dokładność.\n",
    " 4. Wiekszy zbior danych nie zawsze oznacza większą dokładność.\n",
    " 5. Pod wzgledem dokładnosci wygyrywa regresja logistyczna, restza modeli nie wypadła  gorzej, wszystkie wyniki sa zblizone.\n",
    " 6. Spodziwalismy sie gorszych wynikow jesli chodzi o dokładnosc testownych modeli.\n",
    " 7. Zdziwiła tez nas średnia liczba liter w słowie, pozniewaz dla wielu utowrów nie przkroczyła ona średniej 4.0\n",
    " 8. Cięzko było okreslic czy słowa w nawiasach zaliczaja sie do slow piosenki czy nie\n",
    "\"\"\""
   ]
  },
  {
   "cell_type": "code",
   "execution_count": null,
   "metadata": {},
   "outputs": [],
   "source": []
  }
 ],
 "metadata": {
  "kernelspec": {
   "display_name": "Python 3",
   "language": "python",
   "name": "python3"
  },
  "language_info": {
   "codemirror_mode": {
    "name": "ipython",
    "version": 3
   },
   "file_extension": ".py",
   "mimetype": "text/x-python",
   "name": "python",
   "nbconvert_exporter": "python",
   "pygments_lexer": "ipython3",
   "version": "3.8.3"
  }
 },
 "nbformat": 4,
 "nbformat_minor": 4
}
